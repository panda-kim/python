{
  "nbformat": 4,
  "nbformat_minor": 0,
  "metadata": {
    "colab": {
      "provenance": []
    },
    "kernelspec": {
      "name": "python3",
      "display_name": "Python 3"
    },
    "language_info": {
      "name": "python"
    }
  },
  "cells": [
    {
      "cell_type": "markdown",
      "source": [
        "## Chapter 3. Null\n",
        "**Null은 값이 없거나 정의되지 않은 상태를 나타내며**, 프로그래밍에서 매우 중요한 개념입니다. Null은 데이터를 처리하는 과정에서 값의 유무를 판단하거나, 특정 상태를 표현하기 위해 사용됩니다."
      ],
      "metadata": {
        "id": "yKgKrVh-e6VB"
      }
    },
    {
      "cell_type": "markdown",
      "source": [
        "### 3.1. Null\n",
        "\n",
        "> Null로 오해하기 쉬운 데이터\n",
        "\n",
        "입문자들이 자주 혼동하는 개념 중 하나는 Null과 빈 문자열(`''`), 빈 리스트(`[]`), 빈 딕셔너리(`{}`) 등의 **빈 데이터**입니다. Null과 달리, 이러한 **빈 데이터는 길이가 0인 값이지만 값이 존재합니다.** 예를 들어, 빈 리스트는 데이터를 추가할 수 있는 공간을 제공하고, 빈 문자열은 문자 데이터를 저장할 준비가 된 객체입니다. 값이 없음을 나타내는 Null과는 사용 목적이 다릅니다.\n"
      ],
      "metadata": {
        "id": "8Nsiu3Rsg2zk"
      }
    },
    {
      "cell_type": "markdown",
      "source": [
        "> 파이썬의 Null\n",
        "\n",
        "**파이썬에서 Null은 주로 `None`과 `NaN`을 사용합니다.** `None`은 값이 없음을 명시적으로 나타내는 객체로, 함수의 반환 값이 없거나 초기화되지 않은 변수를 표현할 때 사용합니다. 반면, `NaN`(Not a Number)은 주로 수학적 연산에서 정의되지 않은 값을 나타낼 때 사용합니다. 두 개념 모두 \"값없음\"을 의미하지만, 사용 목적과 맥락이 다릅니다."
      ],
      "metadata": {
        "id": "TVEk3k0awGSh"
      }
    },
    {
      "cell_type": "markdown",
      "source": [
        "#### 3.1.1. None\n",
        "\n",
        "> None\n",
        "\n",
        "**`None`은 파이썬에서 값이 없음을 나타내는 상수**로, 다른 언어의 null 또는 nil과 유사합니다. `None`은 고유한 객체로, 키워드로 생성됩니다. 모든 `None` 값은 동일한 메모리 주소를 가지므로, 비교할 때는 `==` 대신 `is`를 사용하는 것이 권장됩니다.\n",
        "\n",
        "`None`의 자료형은 `NoneType`입니다."
      ],
      "metadata": {
        "id": "-WXYGRCohjfL"
      }
    },
    {
      "cell_type": "code",
      "execution_count": null,
      "metadata": {
        "id": "FOKL0_oUe0Rx"
      },
      "outputs": [],
      "source": [
        "# 코드 3-1. None\n",
        "\n",
        "# None을 생성하여 변수 a에 할당 후 출력\n",
        "\n",
        "\n",
        "\n",
        "# 변수 a가 None인지 확인 (is 키워드 사용)\n",
        "\n",
        "\n",
        "# 변수 a의 자료형 확인\n"
      ]
    },
    {
      "cell_type": "markdown",
      "source": [
        "#### 3.1.2. NaN\n",
        "\n",
        "> NaN\n",
        "\n",
        "`NaN`(Not a Number) 또는 `nan`은 **수학 연산에서 정의되지 않은 결과**를 나타내며, `float('nan')`으로 생성할 수 있습니다. 이는 주로 데이터 분석에서 결측값이나 비정상적인 수치를 표현하는 데 사용됩니다.\n",
        "\n",
        "`NaN`의 자료형은 **실수(`float`)**이며, **수치형 데이터인 Null이 `NaN`입니다.**"
      ],
      "metadata": {
        "id": "J5ujIJ3qhnoY"
      }
    },
    {
      "cell_type": "code",
      "source": [
        "# 코드 3-2. NaN\n",
        "\n",
        "# NaN을 생성하여 변수 b에 할당 후 출력\n",
        "\n",
        "\n",
        "\n",
        "# 변수 b의 자료형 확인\n"
      ],
      "metadata": {
        "id": "lb_wA-hJkSCs"
      },
      "execution_count": null,
      "outputs": []
    },
    {
      "cell_type": "markdown",
      "source": [
        "> NaN의 연산\n",
        "\n",
        "- 모든 **산술 연산**에서 `NaN`을 반환합니다.\n",
        "\n",
        "- 모든 **비교 연산**에서 `False`를 반환합니다.\n",
        "\n",
        "`NaN`은 자기 자신과의 동등(`==`) 비교에서도 `False`를 반환합니다. 따라서 `NaN`을 탐지하려면 특별한 함수가 필요합니다. (예: 판다스 라이브러리의 `isna` 함수)"
      ],
      "metadata": {
        "id": "3rFCNp-7WBDx"
      }
    },
    {
      "cell_type": "code",
      "source": [
        "# 코드 3-3. NaN의 연산\n",
        "\n",
        "\n",
        "# 변수 b와 2를 곱한 결과 출력\n",
        "\n",
        "\n",
        "# 변수 b와 float('nan')의 동등 비교\n"
      ],
      "metadata": {
        "id": "gcvba4V3hpJ9"
      },
      "execution_count": null,
      "outputs": []
    },
    {
      "cell_type": "markdown",
      "source": [
        "#### 3.1.3. None과 NaN의 차이\n",
        "\n",
        "> None과 NaN의 차이\n",
        "\n",
        "- `None`: 값이 전혀 없음을 나타내는 고유한 객체이며 자료형은 `NoneType`입니다.\n",
        "\n",
        "- `NaN`: 실수(`float`) 타입의 Null이기에 **산술 연산이 가능**해 주로 데이터 분석에서 사용합니다.\n",
        "\n",
        "<img src=https://i.postimg.cc/c1nJ8HYD/2-11-None-Na-N.png, width=600>\n",
        "\n",
        "[그림 3-1] `None`과 `NaN`의 차이"
      ],
      "metadata": {
        "id": "VJGfGFFRXOX7"
      }
    },
    {
      "cell_type": "markdown",
      "source": [
        "#### 심화\n",
        "\n",
        "**👌참고 사항**\n",
        "\n",
        "우리의 목표는 데이터 분석 입문을 위한 기본적인 파이썬 내용을 빠르고 효율적으로 학습하는 것이므로, **심화 내용은 지금 학습하지 않으셔도 괜찮습니다.** 이 내용은 더 깊이 학습하고자 하는 분들을 위해 참고용으로 제공된 것이며, 데이터 분석에 입문한 이후 학습하셔도 무방합니다.\n",
        "\n",
        "**🚨 주의 사항**\n",
        "\n",
        "지금부터 판다스 라이브러리를 실습에 활용할 것입니다. 만약 여러분이 구글 코랩이 아닌 환경에서 실습하는 경우, **먼저 판다스 라이브러리를 사용하려면 설치해야 합니다.** 코랩 이용자가 아닌 경우 설치를 위해 다음 코드를 실행하거나, **8장 모듈**을 학습한 후 실습하는 것을 권장합니다.\n",
        "\n",
        "```python\n",
        "# 판다스 라이브러리 설치 (구글 코랩은 이미 판다스가 설치되어 있음)\n",
        "!pip install pandas\n",
        "```\n",
        "**구글 코랩에서 실습하는 경우, 별도의 설치 없이 그대로 실습을 진행할 수 있습니다.**\n",
        "\n",
        "> NaN의 확인\n",
        "\n",
        "데이터 분석 모듈인 **판다스** 라이브러리에는 Null을 탐지하는 `isna` 함수가 있습니다. 이 함수는 `None`과 `NaN`을 모두 탐지할 수 있습니다."
      ],
      "metadata": {
        "id": "hr-a7fpvYWKL"
      }
    },
    {
      "cell_type": "code",
      "source": [
        "# 코드 3-4. 판다스에서 Null 확인\n",
        "# 주의: 구글 코랩이 아닌 환경에서 실습하는 경우 판다스 설치가 필수\n",
        "import pandas as pd  # 데이터 분석 모듈 판다스 불러오기\n",
        "\n",
        "# 변수 a에 NaN을 할당\n",
        "a = float('nan')\n",
        "\n",
        "# 판다스의 isna 함수로 a가 Null인지 확인\n",
        "pd.isna(a)  # 출력: True"
      ],
      "metadata": {
        "colab": {
          "base_uri": "https://localhost:8080/"
        },
        "id": "aPQvNHB5Y2Ff",
        "outputId": "fad5653b-e8f9-4581-bca8-59371874a914"
      },
      "execution_count": null,
      "outputs": [
        {
          "output_type": "execute_result",
          "data": {
            "text/plain": [
              "True"
            ]
          },
          "metadata": {},
          "execution_count": 4
        }
      ]
    },
    {
      "cell_type": "markdown",
      "source": [
        "`isna` 함수는 `None`과 `NaN`에 대해 `True`를 반환합니다. 데이터 분석에서는 `NaN`의 존재를 확인하는 주된 이유가 Null의 유무를 파악하기 위함이므로, `None`과 `NaN`의 구분할 실익이 없어 `isna` 함수를 사용해 Null을 탐지하는 것으로 충분합니다.\n",
        "\n",
        "`None`을 제외하고 `NaN`만을 확인하고 싶다면, 자료형이 **실수(`float`)**인 Null을 파악하는 방법을 사용합니다. 이때, 자료형을 확인하는 `isinstance` 함수를 추가로 사용합니다. 다만 실무에서 Null을 탐지하는 것으로 충분하기에 자주 사용하는 기법은 아닙니다."
      ],
      "metadata": {
        "id": "Zh7Ye76yaNxk"
      }
    },
    {
      "cell_type": "code",
      "source": [
        "# 코드 3-5. 판다스에서 NaN 확인\n",
        "\n",
        "import pandas as pd  # 데이터 분석 모듈 판다스 불러오기\n",
        "\n",
        "# 변수 a, b에 각각 NaN과 None 할당\n",
        "a, b = float('nan'), None\n",
        "\n",
        "# 판다스의 isna 함수와 자료형 확인으로 NaN인지 확인\n",
        "print(pd.isna(a) and isinstance(a, float))  # NaN의 출력: True\n",
        "print(pd.isna(b) and isinstance(b, float))  # None의 출력: False"
      ],
      "metadata": {
        "colab": {
          "base_uri": "https://localhost:8080/"
        },
        "id": "ns8RbvPBbfg0",
        "outputId": "afffdede-0152-4365-c805-bd9a5380d43e"
      },
      "execution_count": null,
      "outputs": [
        {
          "output_type": "stream",
          "name": "stdout",
          "text": [
            "True\n",
            "False\n"
          ]
        }
      ]
    },
    {
      "cell_type": "markdown",
      "source": [
        "**😀 파이썬의 엑셀, 판다스 라이브러리 출판 안내**\n",
        "\n",
        "**서울대** 이성주 교수님과 **카이스트** 차유진 교수님이 추천한 데이터 분석 책 **『파이썬의 엑셀, 판다스 라이브러리』**가 출판되었습니다. 이 책은 입문자를 위해 데이터 분석 과정에서 가장 중요한 판다스 라이브러리를 쉽게 풀어쓴 **입문서**이며, 동시에 여러분의 데이터 처리 역량을 강화하는 데 큰 도움이 되는 **기본서**입니다.\n",
        "\n",
        "<img src=https://i.postimg.cc/MKg8TW75/01.jpg, width=600>\n",
        "\n",
        "🎈 [파이썬의 엑셀, 판다스 라이브러리 목차 확인](https://kimpanda.tistory.com/274)\n",
        "\n",
        "🎈 [교보문고 구매 페이지](https://product.kyobobook.co.kr/detail/S000214350781)"
      ],
      "metadata": {
        "id": "XP4yHkEWzgOK"
      }
    }
  ]
}