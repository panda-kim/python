{
  "nbformat": 4,
  "nbformat_minor": 0,
  "metadata": {
    "colab": {
      "provenance": []
    },
    "kernelspec": {
      "name": "python3",
      "display_name": "Python 3"
    },
    "language_info": {
      "name": "python"
    }
  },
  "cells": [
    {
      "cell_type": "markdown",
      "source": [
        "### 6.4. lambda 함수\n",
        "\n",
        "`lambda` 함수는 `def` 키워드 외에 파이썬에서 함수를 정의할 수 있는 또 다른 방법입니다."
      ],
      "metadata": {
        "id": "zPERd_-p2Fuu"
      }
    },
    {
      "cell_type": "markdown",
      "source": [
        "#### 6.4.1. lambda 함수 정의하기\n",
        "\n",
        "> lambda 함수\n",
        "\n",
        "**`lambda` 함수는 파이썬에서 함수를 정의하는 또 다른 방법입니다.** 일반적인 `def`로 정의한 함수와 동일한 기능을 제공하지만, 코드가 간결하고 함수명을 지정하지 않아도 되며, 줄 바꿈 없이 작성할 수 있어 특정 상황(함수의 인수로 다시 함수가 전달되는 상황)에서 효율적으로 사용할 수 있다는 장점이 있습니다.\n",
        "\n",
        "<img src=https://i.postimg.cc/Nfpzx7f8/6-4-lambda.png, width=600>\n",
        "\n",
        "[그림 6-4] lambda 함수\n",
        "\n",
        "`lambda` 함수는 매개변수와 `return`에 입력될 반환 값만으로 구성되며, 함수명을 설정하지 않습니다.\n",
        "\n"
      ],
      "metadata": {
        "id": "89QBqNOF2Fuu"
      }
    },
    {
      "cell_type": "code",
      "source": [
        "# 코드 6-7. lambda 함수 정의\n",
        "# 입력값에 1을 더하는 add_one 함수 정의\n",
        "def add_one(x):\n",
        "    return x + 1\n",
        "\n",
        "# 입력값에 1을 더하는 lambda 함수 정의\n",
        "lambda x: x + 1"
      ],
      "metadata": {
        "colab": {
          "base_uri": "https://localhost:8080/"
        },
        "id": "rC-koFkJKMZH",
        "outputId": "19f5eac8-b909-4809-92a0-334f90842264"
      },
      "execution_count": 1,
      "outputs": [
        {
          "output_type": "execute_result",
          "data": {
            "text/plain": [
              "<function __main__.<lambda>(x)>"
            ]
          },
          "metadata": {},
          "execution_count": 1
        }
      ]
    },
    {
      "cell_type": "markdown",
      "source": [
        "#### 6.4.2. lambda 함수 활용하기\n",
        "> lambda 함수에 인수 전달\n",
        "\n",
        "`lambda` 함수도 인수를 전달받을 수 있습니다."
      ],
      "metadata": {
        "id": "e-JxUGCGAONR"
      }
    },
    {
      "cell_type": "code",
      "source": [
        "# 코드 6-8. lambda 함수에 인수 전달\n",
        "\n",
        "# 입력값에 1을 더하는 lambda 함수를 정의하고 인수 2를 전달\n",
        "(lambda x: x + 1)(2)  # 결과: 3"
      ],
      "metadata": {
        "colab": {
          "base_uri": "https://localhost:8080/"
        },
        "id": "yDTe73bzJ84f",
        "outputId": "8e06d527-9f7c-413b-d28b-b3632f8fd01b"
      },
      "execution_count": 2,
      "outputs": [
        {
          "output_type": "execute_result",
          "data": {
            "text/plain": [
              "3"
            ]
          },
          "metadata": {},
          "execution_count": 2
        }
      ]
    },
    {
      "cell_type": "markdown",
      "source": [
        "**그러나 `lambda` 함수는 직접 인수를 전달하는 용도로 사용하지는 않습니다.** 인수를 전달하는 목적이라면 `def`를 사용하여 함수를 정의하고, 함수명을 통해 호출하는 방식이 더 편리하며 가독성도 높기 때문입니다."
      ],
      "metadata": {
        "id": "h5hqrAiCK-ow"
      }
    },
    {
      "cell_type": "markdown",
      "source": [
        "> lambda 함수를 사용하는 이유\n",
        "\n",
        "**`lambda` 함수는 주로 다른 함수의 인수로 전달될 때 사용됩니다.** 한 줄로 간단히 정의할 수 있어 한 번만 사용할 간단한 함수를 즉석에서 정의하기에 적합합니다. 특히, 데이터 분석 모듈에서는 함수를 인수로 입력받는 다양한 함수가 많아 이럴 때 `lambda` 함수가 유용합니다."
      ],
      "metadata": {
        "id": "Gg9vVE14nZYf"
      }
    },
    {
      "cell_type": "markdown",
      "source": [
        "#### 심화\n",
        "\n",
        "**👌 참고 사항**\n",
        "\n",
        "우리의 목표는 데이터 분석 입문을 위한 기본적인 파이썬 내용을 빠르고 효율적으로 학습하는 것이므로, **심화 내용은 지금 학습하지 않으셔도 괜찮습니다.** 이 내용은 더 깊이 학습하고자 하는 분들을 위해 참고용으로 제공된 것이며, 데이터 분석에 입문한 이후 학습하셔도 무방합니다.\n",
        "\n",
        "> map 함수\n",
        "\n",
        "\n",
        "`map` 함수는 반복 가능한(iterable) 자료형의 요소를 지정된 함수에 적용하여 새로운 결과를 반환하는 함수입니다. 주로 리스트나 튜플의 각 요소에 동일한 연산을 수행할 때 사용됩니다.\n",
        "\n",
        "**map 함수의 기본 사용법**\n",
        "\n",
        "```python\n",
        "map(함수, 이터러블)\n",
        "```\n",
        "\n",
        "- **함수**: 리스트 또는 튜플 등 이터러블의 각 원소에 적용할 함수\n",
        "- **이터러블**: 리스트, 튜플 등 반복 가능한 자료형\n",
        "\n",
        "\n",
        "다음 코드로 `map` 함수를 사용해 **반복문 없이** 리스트의 모든 원소를 실수로 변환합니다. 정수인 리스트 [1, 2, 3, 5]를 실수인 리스트 [1.0, 2.0, 3.0, 5.0]으로 변환합니다.\n",
        "\n",
        "```python\n",
        "# 주어진 리스트\n",
        "a = [1, 2, 3, 5]\n",
        "\n",
        "# 리스트의 모든 원소에 각각 float 함수를 적용해 변환\n",
        "result = map(float, a)\n",
        "\n",
        "# map 객체를 리스트로 변환하고 출력\n",
        "print(list(result))  # 출력: [1.0, 2.0, 3.0, 5.0]\n",
        "```\n",
        "\n",
        "결과는 `map` 객체를 반환하는데, 리스트나 튜플로 변환하면 육안으로 확인할 수 있습니다.\n",
        "\n",
        "\n",
        "**map 함수에 lambda 함수 입력하기**\n",
        "\n",
        "`map` 함수는 기본 파이썬에서 드물게 **다른 함수를 인수로 입력받는 함수**입니다.(모듈에는 다른 함수를 인수로 입력받는 함수가 다양하지만, 기본 파이썬에는 드뭅니다.) 따라서 `lambda` 함수의 용법을 확인하기에 좋은 함수입니다.\n",
        "\n",
        "**`map` 함수에 사용자 정의 함수를 입력할 때 `lambda` 함수를 정의하여 `map` 함수에 입력**합니다. 아래 코드에서는 사용자 정의 함수를 `lambda`로 정의하여, 반복문을 사용하지 않고 각 원소를 2배로 매핑하는 결과를 얻을 수 있습니다.\n",
        "\n",
        "```python\n",
        "# 주어진 리스트\n",
        "a = [1, 2, 3, 5]\n",
        "\n",
        "# 리스트의 모든 원소에 각각 lambda 함수를 적용해 변환\n",
        "result = map(lambda x: x * 2, a)  # 2를 곱한 값을 반환하는 사용자 정의 함수\n",
        "\n",
        "# map 객체를 리스트로 변환하고 출력\n",
        "print(list(result))  # 출력: [2, 4, 6, 10]\n",
        "```\n",
        "\n",
        "이처럼 다른 함수의 인수로 사용자 정의 함수를 입력할 때는 `lambda` 함수가 `def`보다 편리합니다."
      ],
      "metadata": {
        "id": "z490HIxRN0DB"
      }
    },
    {
      "cell_type": "markdown",
      "source": [
        "**😀 파이썬의 엑셀, 판다스 라이브러리 출판 안내**\n",
        "\n",
        "**서울대** 이성주 교수님과 **카이스트** 차유진 교수님이 추천한 데이터 분석 책 **『파이썬의 엑셀, 판다스 라이브러리』**가 출판되었습니다. 이 책은 입문자를 위해 데이터 분석 과정에서 가장 중요한 판다스 라이브러리를 쉽게 풀어쓴 **입문서**이며, 동시에 여러분의 데이터 처리 역량을 강화하는 데 큰 도움이 되는 **기본서**입니다.\n",
        "\n",
        "<img src=https://i.postimg.cc/MKg8TW75/01.jpg, width=600>\n",
        "\n",
        "🎈 [파이썬의 엑셀, 판다스 라이브러리 목차 확인](https://kimpanda.tistory.com/274)\n",
        "\n",
        "🎈 [교보문고 구매 페이지](https://product.kyobobook.co.kr/detail/S000214350781)"
      ],
      "metadata": {
        "id": "ck30EISErICL"
      }
    }
  ]
}