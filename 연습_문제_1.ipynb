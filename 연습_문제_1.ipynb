{
  "nbformat": 4,
  "nbformat_minor": 0,
  "metadata": {
    "colab": {
      "provenance": []
    },
    "kernelspec": {
      "name": "python3",
      "display_name": "Python 3"
    },
    "language_info": {
      "name": "python"
    }
  },
  "cells": [
    {
      "cell_type": "markdown",
      "source": [
        "### 연습 문제 1 (문제)\n",
        "\n",
        "```\n",
        "⭐ 간단한 연습 문제를 준비했습니다.\n",
        "\n",
        "어렵게 느껴지더라도 걱정하지 마세요!\n",
        "\n",
        "복습할 기회이자 ChatGPT를 활용할 좋은 기회입니다.\n",
        "```\n",
        "\n"
      ],
      "metadata": {
        "id": "rPyxx2qVTFYg"
      }
    },
    {
      "cell_type": "markdown",
      "source": [
        "❓ 1. 변수를 사용하는 이유를 설명하세요.\n"
      ],
      "metadata": {
        "id": "OxJU4Kf2Vys1"
      }
    },
    {
      "cell_type": "markdown",
      "source": [
        "❓ 2. `x`에 5를 할당한 후, `x`의 값을 출력하세요."
      ],
      "metadata": {
        "id": "hlwCjYswVys1"
      }
    },
    {
      "cell_type": "code",
      "source": [],
      "metadata": {
        "id": "D8d9cxrQTFYh"
      },
      "execution_count": null,
      "outputs": []
    },
    {
      "cell_type": "markdown",
      "source": [
        "❓ 3. `x`와 `y`에 각각 5와 10을 저장한 후, 두 변수의 합을 출력하세요."
      ],
      "metadata": {
        "id": "9Uh77s2pVys2"
      }
    },
    {
      "cell_type": "code",
      "source": [],
      "metadata": {
        "id": "qe-WcQfCVys2"
      },
      "execution_count": null,
      "outputs": []
    },
    {
      "cell_type": "markdown",
      "source": [
        "❓ 4. 다음 변수 선언 중 올바르지 않은 것을 찾으세요.\n",
        "\n",
        "```python\n",
        "1var = 10\n",
        "my-var = 20\n",
        "_name2 = 'Python'\n",
        "True = 5\n",
        "```\n",
        "\n"
      ],
      "metadata": {
        "id": "_Du7Wr11Vys2"
      }
    },
    {
      "cell_type": "markdown",
      "source": [
        "❓ 5. 변수 `x`에 10을 할당한 후, 값을 5 증가시켜 업데이트한 뒤 출력하세요."
      ],
      "metadata": {
        "id": "bQUxqGV-Vys2"
      }
    },
    {
      "cell_type": "code",
      "source": [],
      "metadata": {
        "id": "hdUhXMpeVys3"
      },
      "execution_count": null,
      "outputs": []
    },
    {
      "cell_type": "markdown",
      "source": [
        "### 연습 문제 1 (해답)\n"
      ],
      "metadata": {
        "id": "NT3Hd8OiXQkw"
      }
    },
    {
      "cell_type": "markdown",
      "source": [
        "\n",
        "\n",
        "❓ 1. 변수를 사용하는 이유를 설명하세요.\n",
        "\n",
        "```\n",
        "✔\n",
        "변수는 데이터를 저장하고 재사용할 수 있도록 하며, 코드의 가독성을 높이고 유지보수를 쉽게 해줍니다.\n",
        "```"
      ],
      "metadata": {
        "id": "jaFk7RayXC-2"
      }
    },
    {
      "cell_type": "markdown",
      "source": [
        "❓ 2. `x`에 5를 할당한 후, `x`의 값을 출력하세요."
      ],
      "metadata": {
        "id": "aFpf4eHsXC-2"
      }
    },
    {
      "cell_type": "code",
      "source": [
        "x = 5\n",
        "print(x)  # 5"
      ],
      "metadata": {
        "colab": {
          "base_uri": "https://localhost:8080/"
        },
        "outputId": "232e0023-56dc-4f05-8768-c1150288cf7b",
        "id": "KFU3VmspXC-3"
      },
      "execution_count": 1,
      "outputs": [
        {
          "output_type": "stream",
          "name": "stdout",
          "text": [
            "5\n"
          ]
        }
      ]
    },
    {
      "cell_type": "markdown",
      "source": [
        "❓ 3. `x`와 `y`에 각각 5와 10을 저장한 후, 두 변수의 합을 출력하세요."
      ],
      "metadata": {
        "id": "7_su8qVSXC-3"
      }
    },
    {
      "cell_type": "code",
      "source": [
        "x = 5\n",
        "y = 10\n",
        "print(x + y)  # 15"
      ],
      "metadata": {
        "colab": {
          "base_uri": "https://localhost:8080/"
        },
        "outputId": "bdb64f5b-b2df-4d61-d18e-298dae76e8f0",
        "id": "b8tDXO81XC-3"
      },
      "execution_count": 2,
      "outputs": [
        {
          "output_type": "stream",
          "name": "stdout",
          "text": [
            "15\n"
          ]
        }
      ]
    },
    {
      "cell_type": "markdown",
      "source": [
        "❓ 4. 다음 변수 선언 중 올바르지 않은 것을 찾으세요.\n",
        "\n",
        "```python\n",
        "1var = 10\n",
        "my-var = 20\n",
        "_name2 = 'Python'\n",
        "True = 5\n",
        "```\n",
        "\n",
        "✔️\n",
        "```python\n",
        "1var = 10  # 숫자로 시작 불가\n",
        "my-var = 20  # 하이픈(-) 사용 불가\n",
        "_name2 = 'Python'\n",
        "True = 5  # 키워드 사용 불가\n",
        "```"
      ],
      "metadata": {
        "id": "KG1DpV3kXC-4"
      }
    },
    {
      "cell_type": "markdown",
      "source": [
        "❓ 5. 변수 `x`에 10을 할당한 후, 값을 5 증가시켜 업데이트한 뒤 출력하세요."
      ],
      "metadata": {
        "id": "PlCASEe7XC-4"
      }
    },
    {
      "cell_type": "code",
      "source": [
        "x = 10\n",
        "x = x + 5\n",
        "print(x)  # 15"
      ],
      "metadata": {
        "colab": {
          "base_uri": "https://localhost:8080/"
        },
        "outputId": "580d73b0-ec71-4f83-8bdc-db95034b68bd",
        "id": "LmSvMQKnXC-4"
      },
      "execution_count": 3,
      "outputs": [
        {
          "output_type": "stream",
          "name": "stdout",
          "text": [
            "15\n"
          ]
        }
      ]
    }
  ]
}