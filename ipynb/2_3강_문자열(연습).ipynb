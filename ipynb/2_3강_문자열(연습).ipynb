{
  "nbformat": 4,
  "nbformat_minor": 0,
  "metadata": {
    "colab": {
      "provenance": []
    },
    "kernelspec": {
      "name": "python3",
      "display_name": "Python 3"
    },
    "language_info": {
      "name": "python"
    }
  },
  "cells": [
    {
      "cell_type": "markdown",
      "source": [
        "### 2.3. 문자열\n",
        "\n",
        "파이썬에서 문자열은 텍스트 데이터를 나타내는 자료형으로, 큰따옴표(`\"`)나 작은따옴표(`'`)로 감싸서 표현합니다. 이러한 문자열 자료형(str)은 다양한 텍스트 작업에 사용됩니다. **파이썬의 문자열은 대소문자를 구분합니다.** 예를 들어 `'abc'`와 `'Abc'`는 서로 다른 문자열로 인식됩니다."
      ],
      "metadata": {
        "id": "aC54hCv-XlUj"
      }
    },
    {
      "cell_type": "code",
      "execution_count": 1,
      "metadata": {
        "id": "HNjoqDtIXlUj"
      },
      "outputs": [],
      "source": [
        "# 코드 2-8. 문자열의 생성\n",
        "\n",
        "# 변수 a에 '김판다'를 할당하고 변수 a를 출력\n",
        "\n",
        "\n",
        "\n",
        "# 변수 a의 자료형 출력\n"
      ]
    },
    {
      "cell_type": "markdown",
      "source": [
        "#### 2.3.1. 멀티 라인 문자열\n",
        "\n",
        "여러 행으로 이루어진 멀티 라인 문자열을 작성하려면 개행 문자 `\\n`을 사용하거나, 따옴표 3개(`'''`)를 사용해 문자열을 생성합니다.\n",
        "\n",
        "[코드 2-9]와 [코드 2-10]에서는 여러 행으로 이루어진 다음 문자열을 생성해 보겠습니다.\n",
        "\n",
        "```\n",
        "김판다 강사는\n",
        "ChatGPT 사용을 강조한다.\n",
        "```"
      ],
      "metadata": {
        "id": "bfbA3zSBZztW"
      }
    },
    {
      "cell_type": "markdown",
      "source": [
        "\n",
        "\n",
        "> 개행 문자\n",
        "\n",
        "여러 행으로 이루어진 멀티 라인 문자열을 작성하려면 개행 문자 `'\\n'`을 사용해야 합니다.\n"
      ],
      "metadata": {
        "id": "wsy3wpItZwUM"
      }
    },
    {
      "cell_type": "code",
      "source": [
        "# 코드 2-9. 개행 문자(\\n)를 사용해 멀티 라인 문자열 생성\n",
        "\n",
        "# 변수 b에 개행 문자가 포함된 문자열 저장 후 출력\n",
        "\n"
      ],
      "metadata": {
        "id": "eBPKm46PXlUl"
      },
      "execution_count": 2,
      "outputs": []
    },
    {
      "cell_type": "markdown",
      "source": [
        "> 따옴표 3개로 멀티 라인 문자열 작성하기\n",
        "\n",
        "**따옴표 3개를 사용하면** 여러 행의 문자열을 편리하게 작성할 수 있습니다. 이 방법은 줄 바꿈과 공백을 포함한 텍스트를 그대로 유지할 수 있어, 개행 문자를 사용하지 않고 입력된 형태 그대로 문자열을 다룰 수 있습니다.\n"
      ],
      "metadata": {
        "id": "ksGXBxloXlUl"
      }
    },
    {
      "cell_type": "code",
      "source": [
        "# 코드 2-10. 따옴표 3개(''')를 사용해 멀티 라인 문자열 생성\n",
        "\n",
        "# 변수 c에 따옴표 3개로 작성된 멀티 라인 문자열을 저장 후 출력\n",
        "\n",
        "\n"
      ],
      "metadata": {
        "id": "4kwJSovgXlUl"
      },
      "execution_count": 3,
      "outputs": []
    },
    {
      "cell_type": "markdown",
      "source": [
        "#### 2.3.2. 문자열의 연산\n",
        "\n",
        "> 문자열 연결\n",
        "\n",
        "파이썬에서는 덧셈 연산자(`+`)를 사용하여 문자열을 쉽게 연결할 수 있습니다. 이 기법은 추후 학습하게 될 데이터 분서 모듈에서도 데이터 결합 시 자주 활용됩니다. 예를 들어, 문자열 '김'과 '판다'를 `+` 연산으로 연결하면 '김판다'라는 결과를 얻을 수 있습니다."
      ],
      "metadata": {
        "id": "SaM64vuWXlUm"
      }
    },
    {
      "cell_type": "code",
      "source": [
        "# 코드 2-11. 문자열 연결\n",
        "d = '김'\n",
        "e = '판다'\n",
        "\n",
        "# 변수 d와 변수 e의 문자열 연결 후 출력\n"
      ],
      "metadata": {
        "id": "g3JTs4hgXlUm"
      },
      "execution_count": 4,
      "outputs": []
    },
    {
      "cell_type": "markdown",
      "source": [
        " 단, **문자열끼리만 연결이 가능하다**는 점과 파이썬에서는 덧셈 연산자(`+`)로 문자열을 연결할 수 있지만, 뺄셈 연산자(`-`)를 사용해 문자열에서 일부 문자를 제거할 수는 없다는 점에 주의하세요."
      ],
      "metadata": {
        "id": "2toc7-5kXlUm"
      }
    },
    {
      "cell_type": "markdown",
      "source": [
        "> 문자열로 변환하기\n",
        "\n",
        "만약 문자열과 정수를 연결하고 싶다면, 정수를 문자열로 변환한 뒤 연결합니다. 문자열로 변환할 때는 `str` 함수를 사용합니다."
      ],
      "metadata": {
        "id": "KKlTaUe2XlUm"
      }
    },
    {
      "cell_type": "code",
      "source": [
        "# 코드 2-12. 문자열 연결\n",
        "a = '김판다'\n",
        "f = 2\n",
        "\n",
        "# 변수 a와 변수 f를 문자열로 연결\n"
      ],
      "metadata": {
        "id": "iBnzsxObXlUn"
      },
      "execution_count": 5,
      "outputs": []
    },
    {
      "cell_type": "markdown",
      "source": [
        "> 문자열 반복\n",
        "\n",
        "곱셈 연산자(`*`)를 사용하여 문자열을 정수와 곱하면 문자열을 반복할 수 있지만, 자주 사용되는 기법은 아닙니다."
      ],
      "metadata": {
        "id": "X3Y4iRGpXlUn"
      }
    },
    {
      "cell_type": "code",
      "source": [
        "# 코드 2-13. 문자열 반복\n",
        "e = '판다'\n",
        "\n",
        "# 변수 e를 4회 반복\n"
      ],
      "metadata": {
        "id": "qi0HsesUXlUn"
      },
      "execution_count": 6,
      "outputs": []
    },
    {
      "cell_type": "markdown",
      "source": [
        "#### 2.3.3. 문자열의 인덱싱과 슬라이싱\n",
        "\n",
        "> 문자열의 인덱싱과 슬라이싱\n",
        "\n",
        "파이썬의 문자열은 인덱싱과 슬라이싱을 통해 특정 문자를 추출하거나 부분 문자열을 가져올 수 있습니다. 문자열의 인덱스는 0부터 시작하며, 인덱스를 사용해 원하는 위치의 문자를 선택할 수 있습니다.\n",
        "\n",
        "예를 들어, 변수 `g`가 'python'일 때 `g[0]`는 첫 번째 문자 **'p'**를 반환합니다."
      ],
      "metadata": {
        "id": "apEK-6wwXlUn"
      }
    },
    {
      "cell_type": "code",
      "source": [
        "# 코드 2-14. 문자열의 인덱싱\n",
        "g = 'python'\n",
        "\n",
        "# 변수 g에서 첫 번째 문자 반환하기\n"
      ],
      "metadata": {
        "id": "WtXaGFApXlUn"
      },
      "execution_count": 7,
      "outputs": []
    },
    {
      "cell_type": "markdown",
      "source": [
        "인덱싱과 슬라이싱에 대해서는 이후의 단원(2.4. 인덱싱과 슬라이싱)에서 더 자세히 학습할 예정입니다. 여기서는 문자열도 인덱싱과 슬라이싱이 가능하다는 것만 기억합니다."
      ],
      "metadata": {
        "id": "P-HrQyzDXlUn"
      }
    },
    {
      "cell_type": "markdown",
      "source": [
        "#### 2.3.4. 문자열을 다루는 함수\n",
        "\n",
        "> 문자열의 길이\n",
        "\n",
        "\n",
        "`len` 함수는 문자열의 길이를 반환합니다.\n",
        "\n",
        "\n"
      ],
      "metadata": {
        "id": "P2YLq39yXlUo"
      }
    },
    {
      "cell_type": "code",
      "source": [
        "# 코드 2-15. 문자열의 길이 확인\n",
        "g = 'python'\n",
        "\n",
        "# 변수 g의 길이를 구하고 출력\n"
      ],
      "metadata": {
        "id": "g4g7ixe4XlUo"
      },
      "execution_count": 8,
      "outputs": []
    },
    {
      "cell_type": "markdown",
      "source": [
        "`len` 함수를 사용하면 문자열 'python'의 길이가 6임을 확인할 수 있습니다. `len` 함수는 문자열뿐만 아니라 리스트와 같은 배열의 길이도 구할 수 있으며, 데이터 분석 모듈에서도 자주 활용됩니다."
      ],
      "metadata": {
        "id": "B9YBtihAa6_c"
      }
    },
    {
      "cell_type": "markdown",
      "source": [
        "> 문자열 치환\n",
        "\n",
        "`replace` 메서드를 사용하면 문자열에서 특정 부분을 다른 문자열로 대체할 수 있습니다. 예를 들어, 변수 `h`에 저장된 문자열 '코카 콜라'에서 '코카'를 '펩시'로 치환하면 결과는 '펩시 콜라'가 됩니다."
      ],
      "metadata": {
        "id": "N61j0xg5XlUo"
      }
    },
    {
      "cell_type": "code",
      "source": [
        "# 코드 2-16. 문자열 치환\n",
        "h = '코카 콜라'\n",
        "\n",
        "# 변수 h에서 '코카'를 '펩시'로 치환\n"
      ],
      "metadata": {
        "id": "4DUFngftXlUo"
      },
      "execution_count": 9,
      "outputs": []
    },
    {
      "cell_type": "markdown",
      "source": [
        "\n",
        "`replace`는 **메서드** 형태로 사용되며, 메서드는 함수의 한 종류로 특정 객체(여기서는 문자열)에 종속되어 호출됩니다. 입문자는 **메서드**를 **\"객체 뒤에 붙여 사용하는 함수\"**로 간단히 이해하면 됩니다."
      ],
      "metadata": {
        "id": "2ILGEG91XlUo"
      }
    },
    {
      "cell_type": "markdown",
      "source": [
        "#### 심화\n",
        "\n",
        "**👌 참고 사항**\n",
        "\n",
        "우리의 목표는 데이터 분석 입문을 위한 기본적인 파이썬 내용을 빠르고 효율적으로 학습하는 것이므로, **심화 내용은 지금 학습하지 않으셔도 괜찮습니다.** 이 내용은 더 깊이 학습하고자 하는 분들을 위해 참고용으로 제공된 것이며, 데이터 분석에 입문한 이후 학습하셔도 무방합니다.\n",
        "\n",
        "\n",
        "> 다양한 문자열 함수\n",
        "\n",
        "- `replace(old, new[, count])`: 문자열에서 old를 new로 치환 (최대 count회)\n",
        "\n",
        " ```python\n",
        "a = '코카 콜라'\n",
        "a.replace('코카', '펩시')  # 출력: '펩시 콜라'\n",
        "```\n",
        "\n",
        "\n",
        "- `zfill(width)`: 길이가 width가 되도록 문자열을 0으로 채움\n",
        "\n",
        "   ```python\n",
        "a = '42'\n",
        "a.zfill(5)  # 출력: '00042'\n",
        "```\n",
        "\n",
        "- `strip([chars])`: 양쪽 끝의 공백 제거 (chars 지정 시 해당 문자 제거)\n",
        "\n",
        " ```python\n",
        "a = '  hello  '\n",
        "a.strip()  # 출력: 'hello'\n",
        "```\n",
        "\n",
        "\n",
        "- `lstrip([chars])`: 왼쪽 끝의 공백 제거 (chars 지정 시 해당 문자 제거)\n",
        "\n",
        " ```python\n",
        "a = '  hello  '\n",
        "a.lstrip()  # 출력: 'hello  '\n",
        "```\n",
        "\n",
        "- `rstrip([chars])`: 오른쪽 끝의 공백 제거 (chars 지정 시 해당 문자 제거)\n",
        "\n",
        " ```python\n",
        "a = '  hello  '\n",
        "a.rstrip()  # 출력: '  hello'\n",
        "```\n",
        "\n",
        "\n",
        "- `upper()` : 모든 문자를 대문자로 변환\n",
        "\n",
        " ```python\n",
        "a = 'hello'\n",
        "a.upper()  # 출력: 'HELLO'\n",
        "```\n",
        "\n",
        "- `lower()` : 모든 문자를 소문자로 변환\n",
        "\n",
        " ```python\n",
        "a = 'HELLO'\n",
        "a.lower()  # 출력: 'hello'\n",
        "```\n",
        "\n",
        "- `capitalize()` : 첫 글자는 대문자로, 나머지는 소문자로 변환\n",
        "\n",
        " ```python\n",
        "a = 'hello world'\n",
        "a.capitalize()  # 출력: 'Hello world'\n",
        "```\n",
        "\n",
        "- `split([sep[, maxsplit]])` : sep 기준으로 문자열 분할 후 리스트 반환\n",
        "\n",
        " ```python\n",
        "a = 'bc/d/efg'\n",
        "a.split('/')  # 출력: ['bc', 'd', 'efg']\n",
        "```\n",
        "\n",
        "- `count(sub[, start[, end]])` : 특정 문자열의 등장 횟수 반환\n",
        "\n",
        " ```python\n",
        "a = 'Wow, he is going to hell!'\n",
        "a.count('he')  # 출력: 2\n",
        "```\n",
        "\n",
        "- `find(sub[, start[, end]])` : 특정 문자열의 첫 등장 위치 반환 (없으면 -1)\n",
        "\n",
        " ```python\n",
        " a = 'hello world'\n",
        "a.find('world')  # 출력: 6\n",
        "```\n",
        "\n",
        "- `index(sub[, start[, end]])` : 특정 문자열의 첫 등장 위치 반환 (없으면 오류 발생)\n",
        "\n",
        " ```python\n",
        "a = 'hello world'\n",
        "a.index('world')  # 출력: 6\n",
        "```\n",
        "\n",
        "\n",
        "- `join(iterable)` : 지정한 문자열을 기준으로 배열의 요소를 연결\n",
        "\n",
        " ```python\n",
        "a = ['bc', 'd', 'efg']\n",
        "'/'.join(a)  # 출력: 'bc/d/efg'\n",
        "```"
      ],
      "metadata": {
        "id": "XsyEqighXlUo"
      }
    },
    {
      "cell_type": "markdown",
      "source": [
        "> 문자열 포매팅\n",
        "\n",
        "**문자열 포매팅은 문자열 안에 변수의 값을 삽입해 새로운 문자열을 만드는 기법**입니다. 이를 통해 변수를 문자열에 동적으로 할당할 수 있습니다. 파이썬은 f-string(formatted string) 기법과 `format` 함수를 사용해 문자열 포매팅을 수행합니다.\n",
        "\n",
        "- **f-string 기법**\n",
        "\n",
        " 문자열 앞에 접두사 f를 붙이고, 중괄호(`{}`) 안에 변수를 입력합니다."
      ],
      "metadata": {
        "id": "cJ3h7DrPXlUp"
      }
    },
    {
      "cell_type": "code",
      "source": [
        "# 코드 2-17. 문자열 포매팅(f-string 기법)\n",
        "a = '김판다'\n",
        "f = 2  # 변수가 문자열이 아니어도 문자열 포매팅은 가능\n",
        "\n",
        "# 문자열 '김판다 강사의 수업을 2회 수강하였다.' 생성\n",
        "f'{a} 강사의 수업을 {f}회 수강하였다.'"
      ],
      "metadata": {
        "colab": {
          "base_uri": "https://localhost:8080/",
          "height": 35
        },
        "outputId": "b0e4d814-ca8a-471e-921b-45f9dce4428a",
        "id": "netozhc9XlUp"
      },
      "execution_count": 10,
      "outputs": [
        {
          "output_type": "execute_result",
          "data": {
            "text/plain": [
              "'김판다 강사의 수업을 2회 수강하였다.'"
            ],
            "application/vnd.google.colaboratory.intrinsic+json": {
              "type": "string"
            }
          },
          "metadata": {},
          "execution_count": 10
        }
      ]
    },
    {
      "cell_type": "markdown",
      "source": [
        "- **format 함수**\n",
        "\n",
        " `format` 함수를 사용하여 문자열 내 중괄호(`{}`)에 변수를 삽입할 수 있습니다. `format` 함수의 인수로 중괄호에 넣을 변수를 입력해 텍스트를 생성합니다."
      ],
      "metadata": {
        "id": "CId_azpEXlUp"
      }
    },
    {
      "cell_type": "code",
      "source": [
        "# 코드 2-18. 문자열 포매팅(format 함수)\n",
        "a = '김판다'\n",
        "f = 2  # 변수가 문자열이 아니어도 문자열 포매팅은 가능\n",
        "\n",
        "# 문자열 '김판다 강사의 수업을 2회 수강하였다.' 생성\n",
        "'{} 강사의 수업을 {}회 수강하였다.'.format(a, f)"
      ],
      "metadata": {
        "colab": {
          "base_uri": "https://localhost:8080/",
          "height": 35
        },
        "outputId": "61327d4e-62f7-4574-d682-dce32b1397a0",
        "id": "GKx_eVN2XlUp"
      },
      "execution_count": 11,
      "outputs": [
        {
          "output_type": "execute_result",
          "data": {
            "text/plain": [
              "'김판다 강사의 수업을 2회 수강하였다.'"
            ],
            "application/vnd.google.colaboratory.intrinsic+json": {
              "type": "string"
            }
          },
          "metadata": {},
          "execution_count": 11
        }
      ]
    },
    {
      "cell_type": "markdown",
      "source": [
        "문자열 포매팅을 익히면 코드가 간결해지고 복잡한 문자열 작업을 더 쉽게 처리할 수 있습니다. 다만 문자열 포매팅이 입문자라면 처음에는 문자열 연결 방식을 사용하고, 익숙해진 후 문자열 포매팅으로 전환해도 괜찮습니다."
      ],
      "metadata": {
        "id": "uTmZSlBOXlUp"
      }
    },
    {
      "cell_type": "code",
      "source": [
        "# 코드 2-19. 문자열 연결로 [코드 2-17]와 [코드 2-18] 결과 수행\n",
        "a = '김판다'\n",
        "f = 2\n",
        "\n",
        "# 문자열 '김판다 강사의 수업을 2회 수강하였습니다.' 생성\n",
        "a + ' 강사의 수업을 ' + str(f) + '회 수강하였다.'"
      ],
      "metadata": {
        "colab": {
          "base_uri": "https://localhost:8080/",
          "height": 35
        },
        "outputId": "2838b2ea-eb33-4ce8-e2c5-12b502405e67",
        "id": "YceCFNheXlUp"
      },
      "execution_count": 12,
      "outputs": [
        {
          "output_type": "execute_result",
          "data": {
            "text/plain": [
              "'김판다 강사의 수업을 2회 수강하였다.'"
            ],
            "application/vnd.google.colaboratory.intrinsic+json": {
              "type": "string"
            }
          },
          "metadata": {},
          "execution_count": 12
        }
      ]
    },
    {
      "cell_type": "markdown",
      "source": [
        "> 이스케이프 문자와 이스케이프 시퀀스\n",
        "\n",
        "- **이스케이프 문자**\n",
        "\n",
        " **이스케이프(escape) 문자는 백슬래시(`\\`)로, 문자열 내에서 뒤따르는 문자를 특별한 방식으로 해석하도록 만드는 역할을 합니다.** 이는 문자 그대로의 의미를 확장하거나 변경하기 위한 기법입니다.\n",
        "\n",
        "- **이스케이프 시퀀스**\n",
        "\n",
        " **이스케이프 시퀀스(escape sequence)는 이스케이프 문자(`\\`)와 특정 문자의 조합으로, 특정 동작이나 특수 문자를 나타냅니다.** 예를 들어 개행 문자(`\\n`)는 이스케이프 시퀀스이며 이스케이프 문자(`\\`)와 문자 n의 조합으로, 줄 바꿈을 의미합니다.\n",
        "\n",
        " 백슬래시 자체(`\\`)는 이스케이프 문자로 동작하기 때문에, 이를 문자 그대로 표현할 때도 이스케이프 문자를 덧붙인 이스케이프 시퀀스(`\\\\`)를 사용해야 합니다. 이는 문자열 내에서 단일 백슬래시를 나타내기 위한 방법입니다.\n",
        "\n",
        "- 파일 경로에서 이스케이프 시퀀스 활용\n",
        "\n",
        " 파일 경로를 표현할 때 백슬래시는 문자로 사용되어야 합니다. 따라서, 파일 경로를 표현할 때는 이스케이프 시퀀스(`\\\\`)를 사용해야 합니다.\n",
        "\n",
        "\n",
        " ```python\n",
        "url = 'C:\\문서\\data.csv'  # 에러 발생\n",
        "url = 'C:\\\\문서\\\\data.csv'  # 해결 방법\n",
        "```\n",
        "\n"
      ],
      "metadata": {
        "id": "swk8745LADOS"
      }
    },
    {
      "cell_type": "markdown",
      "source": [
        "**😀 파이썬의 엑셀, 판다스 라이브러리 출판 안내**\n",
        "\n",
        "**서울대** 이성주 교수님과 **카이스트** 차유진 교수님이 추천한 데이터 분석 책 **『파이썬의 엑셀, 판다스 라이브러리』**가 출판되었습니다. 이 책은 입문자를 위해 데이터 분석 과정에서 가장 중요한 판다스 라이브러리를 쉽게 풀어쓴 **입문서**이며, 동시에 여러분의 데이터 처리 역량을 강화하는 데 큰 도움이 되는 **기본서**입니다.\n",
        "\n",
        "<img src=https://i.postimg.cc/MKg8TW75/01.jpg, width=600>\n",
        "\n",
        "🎈 [파이썬의 엑셀, 판다스 라이브러리 목차 확인](https://kimpanda.tistory.com/274)\n",
        "\n",
        "🎈 [교보문고 구매 페이지](https://product.kyobobook.co.kr/detail/S000214350781)"
      ],
      "metadata": {
        "id": "wiO9pvyGkDwe"
      }
    }
  ]
}