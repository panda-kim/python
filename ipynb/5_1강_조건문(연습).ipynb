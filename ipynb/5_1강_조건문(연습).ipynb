{
  "nbformat": 4,
  "nbformat_minor": 0,
  "metadata": {
    "colab": {
      "provenance": []
    },
    "kernelspec": {
      "name": "python3",
      "display_name": "Python 3"
    },
    "language_info": {
      "name": "python"
    }
  },
  "cells": [
    {
      "cell_type": "markdown",
      "source": [
        "## Chapter 5. 제어문\n",
        "\n",
        "**제어문은 프로그램의 흐름을 제어하는 핵심 구문**으로, 조건에 따라 코드의 실행 경로를 결정하거나 특정 작업을 반복적으로 수행할 수 있게 합니다. **제어문의 대표적인 예로는 조건문과 반복문이 있습니다.** 조건문은 주어진 조건이 `True`일 경우 특정 코드를 실행하고, `False`이면 해당 코드를 실행하지 않거나 대체 경로를 따릅니다. 반복문은 동일한 코드를 반복 실행하여 효율적으로 임무를 수행합니다.\n",
        "\n",
        "> 제어문의 종류\n",
        "\n",
        "파이썬의 제어문은 크게 조건문, 반복문, 그리고 예외 처리문으로 나눌 수 있습니다.\n",
        "\n",
        "- **조건문**\n",
        " - 특정 조건에 따라 코드 실행 여부 결정\n",
        " - 키워드: `if`, `elif`, `else`\n",
        "\n",
        "- **반복문**\n",
        "\n",
        " - 코드 반복 실행\n",
        " - 키워드: `for`, `while`\n",
        "\n",
        "- **예외 처리문**\n",
        "\n",
        " - 실행 중에 발생할 수 있는 오류 처리\n",
        " - 키워드: `try`, `except`, `finally`\n",
        "\n"
      ],
      "metadata": {
        "id": "yi4IwSwBoOtG"
      }
    },
    {
      "cell_type": "markdown",
      "source": [
        "> 제어문의 구조\n",
        "\n",
        "<img src=https://i.postimg.cc/C5zQK4Qs/5-1.png, width=600>\n",
        "\n",
        "[그림 5-1] 제어문의 구조\n",
        "\n",
        "파이썬 제어문은 **제어 파트**와 **do 파트**로 구성됩니다. **제어 파트는 코드의 실행 여부를 결정**하며, `if`, `for`와 같은 제어문 키워드로 시작하고 콜론(`:`)으로 끝납니다. **do 파트는 제어 조건이 만족할 때 실행되는 코드**로, 파이썬에서는 들여쓰기로 구분합니다. 일반적으로 **do 파트는 4칸의 들여쓰기**를 사용하여 가독성을 높이고, 코드의 계층 구조를 명확히 나타냅니다.\n"
      ],
      "metadata": {
        "id": "OvCLlZjCB1Sp"
      }
    },
    {
      "cell_type": "markdown",
      "source": [
        "### 5.1. 조건문\n",
        "\n",
        "**조건문은 특정 조건에 따라 다른 코드가 실행되도록 합니다.** 조건문은 데이터를 기반으로 논리적 결정을 내리고, 다양한 상황에서 적절한 동작을 수행하도록 설계됩니다. 파이썬에서는 `if`, `elif`, `else` 세 가지 주요 구문을 통해 조건을 처리합니다.\n",
        "\n",
        "- **if**: 조건이 True일 때 실행.\n",
        "- **else**: 모든 조건이 False일 때 실행.\n",
        "- **elif**: 여러 조건을 설정."
      ],
      "metadata": {
        "id": "9qJh4X3noOtG"
      }
    },
    {
      "cell_type": "markdown",
      "source": [
        "#### 5.1.1. if 문\n",
        "\n",
        "> if 문\n",
        "\n",
        "\n",
        "**`if` 문은 특정 조건이 `True`일 때 실행**되는 조건문입니다.\n",
        "\n",
        "예: 학생의 점수가 80점 이상일 경우 '합격' 메시지를 출력하는 코드입니다.\n",
        "\n",
        "```python\n",
        "score = 95  # 변수 score에 95를 할당\n",
        "\n",
        "# score가 80 이상이면 '합격' 출력\n",
        "if score >= 80:\n",
        "    print('합격')  # 출력: '합격'\n",
        "```\n"
      ],
      "metadata": {
        "id": "66q7mdC7-CJk"
      }
    },
    {
      "cell_type": "code",
      "source": [
        "# 코드 5-1. if 문\n",
        "score = 95  # 변수 score에 95를 할당\n",
        "\n",
        "# score가 80 이상이면, 변수 grade에 'A'를 할당\n",
        "\n",
        "\n",
        "\n",
        "# 변수 grade 출력\n"
      ],
      "metadata": {
        "id": "YhtdAF0H-kgD"
      },
      "execution_count": 1,
      "outputs": []
    },
    {
      "cell_type": "markdown",
      "source": [
        "#### 5.1.2. else 문\n",
        "\n",
        "> else 문\n",
        "\n",
        "`else` 문은 일반적으로 if 문과 함께 쓰이며, **조건이 `False`일 때 실행**됩니다.\n",
        "\n",
        "예: 점수가 80점 이상이면 '합격', 그렇지 않으면 '불합격' 메시지를 출력합니다.\n",
        "\n",
        "```python\n",
        "score = 75  # 변수 score에 75를 할당\n",
        "\n",
        "# score가 80 이상이면 '합격', 그렇지 않으면 '불합격' 출력\n",
        "if score >= 80:\n",
        "    print('합격')  # 조건 만족 시 실행되는 코드\n",
        "else:\n",
        "    print('불합격')  # 조건 불만족 시 실행되는 코드\n",
        "```"
      ],
      "metadata": {
        "id": "Pa77SEYE-k2N"
      }
    },
    {
      "cell_type": "code",
      "source": [
        "# 코드 5-2. else 문\n",
        "score = 70  # 변수 score에 70을 할당\n",
        "\n",
        "# score가 80 이상이면 grade에 'A', 아니면 'B'를 할당\n",
        "\n",
        "\n",
        "\n",
        "\n",
        "\n",
        "# 변수 grade 출력\n"
      ],
      "metadata": {
        "id": "gSnq14znEvLb"
      },
      "execution_count": 2,
      "outputs": []
    },
    {
      "cell_type": "markdown",
      "source": [
        "#### 5.1.3. elif 문\n",
        "\n",
        "> elif 문\n",
        "\n",
        "`elif` 문을 사용하면 **여러 조건을 설정**하여 각각 다른 코드를 실행할 수 있습니다.\n",
        "\n",
        "예: 점수가 90점 이상이면 'A', 80점 이상 90점 미만이면 'B', 그 외의 경우에는 'C'를 출력합니다.\n",
        "\n",
        "```python\n",
        "score = 85  # 변수 score에 85를 할당\n",
        "\n",
        "# 점수에 따라 등급 출력: 90 이상은 'A', 80 이상 90 미만은 'B', 그 외는 'C'\n",
        "if score >= 90:\n",
        "    print('A')  # 출력: 'A' (90 이상)\n",
        "elif score >= 80:\n",
        "    print('B')  # 출력: 'B' (80 이상 90 미만)\n",
        "else:\n",
        "    print('C')  # 출력: 'C' (조건 불만족 시)\n"
      ],
      "metadata": {
        "id": "rXKoF2u1FaxL"
      }
    },
    {
      "cell_type": "code",
      "source": [
        "# 코드 5-3. elif 문\n",
        "score = 75  # 변수 score에 75를 할당\n",
        "\n",
        "# score에 따라 grade를 할당: 80 이상 'A', 70 이상 80 미만 'B', 70 미만 'C'\n",
        "\n",
        "\n",
        "\n",
        "\n",
        "\n",
        "\n",
        "\n",
        "# 변수 grade 출력\n"
      ],
      "metadata": {
        "id": "xrcc0ODTF4n9"
      },
      "execution_count": 3,
      "outputs": []
    },
    {
      "cell_type": "markdown",
      "source": [
        "다양한 조건이 필요한 경우, 필요한 만큼 `elif` 문을 추가합니다.\n",
        "\n",
        "예: 점수에 따라 등급을 세분화하여 'A', 'B', 'C', 'D', 'F'를 출력\n",
        "\n",
        "```python\n",
        "score = 75  # 변수 score에 75를 할당\n",
        "\n",
        "# 점수에 따라 등급 출력\n",
        "if score >= 90:\n",
        "    print('A')  # 90 이상\n",
        "elif score >= 80:\n",
        "    print('B')  # 80 이상 90 미만\n",
        "elif score >= 70:\n",
        "    print('C')  # 70 이상 80 미만\n",
        "elif score >= 60:\n",
        "    print('D')  # 60 이상 70 미만\n",
        "else:\n",
        "    print('F')  # 60 미만\n",
        "```"
      ],
      "metadata": {
        "id": "fmS-jXNDdzIU"
      }
    },
    {
      "cell_type": "markdown",
      "source": [
        "**😀 파이썬의 엑셀, 판다스 라이브러리 출판 안내**\n",
        "\n",
        "**서울대** 이성주 교수님과 **카이스트** 차유진 교수님이 추천한 데이터 분석 책 **『파이썬의 엑셀, 판다스 라이브러리』**가 출판되었습니다. 이 책은 입문자를 위해 데이터 분석 과정에서 가장 중요한 판다스 라이브러리를 쉽게 풀어쓴 **입문서**이며, 동시에 여러분의 데이터 처리 역량을 강화하는 데 큰 도움이 되는 **기본서**입니다.\n",
        "\n",
        "<img src=https://i.postimg.cc/MKg8TW75/01.jpg, width=600>\n",
        "\n",
        "🎈 [파이썬의 엑셀, 판다스 라이브러리 목차 확인](https://kimpanda.tistory.com/274)\n",
        "\n",
        "🎈 [교보문고 구매 페이지](https://product.kyobobook.co.kr/detail/S000214350781)"
      ],
      "metadata": {
        "id": "G3fBKglwFQ8l"
      }
    }
  ]
}