{
  "nbformat": 4,
  "nbformat_minor": 0,
  "metadata": {
    "colab": {
      "provenance": []
    },
    "kernelspec": {
      "name": "python3",
      "display_name": "Python 3"
    },
    "language_info": {
      "name": "python"
    }
  },
  "cells": [
    {
      "cell_type": "markdown",
      "source": [
        "## Chapter 4. 키워드\n",
        "\n",
        "우리는 불 자료형 단원에서 `True`와 `False`, Null 단원에서는 `None`을 배웠습니다. 또한 논리 연산자 `and`, `or`, `not`도 배웠습니다. 이들은 모두 약속된 단어입니다. **키워드는 특정 데이터나 기능, 동작을 나타내는 약속된 단어**로, 파이썬의 주요 동작과 구조를 정의합니다. 이를 통해 코드의 흐름을 제어합니다. 또한 키워드는 특정 기능으로 약속된 단어이기에 변수명이나 함수명으로 사용할 수 없습니다."
      ],
      "metadata": {
        "id": "XP4yHkEWzgOK"
      }
    },
    {
      "cell_type": "markdown",
      "source": [
        "### 4.1. 키워드\n",
        "\n",
        "파이썬 키워드는 다음과 같은 주요 범주로 나눌 수 있습니다.\n",
        "\n",
        "> 제어문\n",
        "\n",
        "프로그램의 흐름을 제어하는 데 사용됩니다.\n",
        "- if, elif, else: 조건에 따라 코드의 분기를 결정합니다.\n",
        "- for, while: 반복 작업을 수행하는 반복문을 생성합니다.\n",
        "- break, continue: 반복문 내 흐름을 조절합니다.\n",
        "\n",
        "- try, except, finally: 예외 처리를 통해 프로그램의 안정성을 높입니다.\n",
        "\n",
        "<br>\n",
        "\n",
        "> 함수와 클래스 정의\n",
        "\n",
        "코드 구조를 정의하는 데 사용됩니다.\n",
        "\n",
        "- def: 함수를 정의합니다.\n",
        "\n",
        "- class: 클래스를 정의합니다.\n",
        "\n",
        "- return: 함수의 결과를 반환합니다.\n",
        "\n",
        "- lambda: 이름 없는 함수(람다 함수 또는 익명 함수)를 생성합니다.\n",
        "\n",
        "<br>\n",
        "\n",
        "> 논리 연산\n",
        "\n",
        "논리적 조건을 표현합니다.\n",
        "\n",
        "- and, or, not: 논리 조건을 결합하는 연산을 수행합니다.\n",
        "\n",
        "- is, in: 객체의 동일성 또는 포함 관계를 검사합니다.\n",
        "\n",
        "<br>\n",
        "\n",
        "> 기타 키워드\n",
        "\n",
        "다양한 목적을 가진 키워드입니다.\n",
        "\n",
        "- None: 값이 없음을 나타내는 특별한 상수입니다.\n",
        "\n",
        "- True, False: 참과 거짓인 불(bool)을 나타냅니다.\n",
        "\n",
        "- import, from, as: 모듈을 가져오고, 별칭을 지정하거나 부분적으로 가져올 때 사용됩니다.\n",
        "\n",
        "\n",
        "<br>\n",
        "\n",
        "이 단원에서는 `is`와 `in` 키워드를 배웁니다. 그 외의 키워드는 관련된 단원에서 학습합니다.\n"
      ],
      "metadata": {
        "id": "H-92KBW4cKRk"
      }
    },
    {
      "cell_type": "markdown",
      "source": [
        "#### 4.1.1. 키워드 is\n",
        "\n",
        "> 키워드 is\n",
        "\n",
        "키워드 `is`는 **객체의 동일성을 확인**할 때 사용합니다.\n",
        "\n",
        "```python\n",
        "a = None  # 변수 a에 None을 할당\n",
        "a is None  # 출력: True -> a는 None과 동일하다.\n",
        "```\n",
        "<br>\n",
        "\n",
        "> is와 ==의 차이\n",
        "\n",
        "- `==` 연산자: 두 값이 동일한지를 비교하며, 값이 같으면 `True`를 반환합니다.\n",
        "\n",
        "- `is` 연산자: 두 변수가 동일한 객체를 가리키는지를 확인합니다. 같은 값이라도 다른 객체를 참조할 경우 `is`는 `False`를 반환합니다.\n",
        "\n",
        "예)\n",
        "\n",
        "```python\n",
        "# 리스트 a와 b 생성\n",
        "a = [1, 2, 3]\n",
        "b = [1, 2, 3]\n",
        "\n",
        "# 두 리스트의 값 비교\n",
        "print(a == b)  # 출력: True (값이 같다)\n",
        "\n",
        "# 두 리스트의 객체 비교\n",
        "print(a is b)  # 출력: False (동일한 객체가 아니다)\n",
        "```\n",
        "\n",
        "변수 a와 b는 값은 동일하지만 서로 다른 객체입니다. 이때 동등 비교 연산자(`==`)를 사용하면 `True`를 반환하지만, 키워드 `is`를 사용하면 `False`를 반환합니다.\n",
        "\n",
        "키워드로 생성된 데이터인 `True`, `False`, `None`은 모두 **고유 객체**이므로, 동등 비교 연산(`==`)보다는 `is`를 사용해 탐지하는 것이 더 엄밀합니다.\n",
        "\n"
      ],
      "metadata": {
        "id": "gGMoXxqEOKV2"
      }
    },
    {
      "cell_type": "code",
      "execution_count": 1,
      "metadata": {
        "id": "R-16hBVlzOgx"
      },
      "outputs": [],
      "source": [
        "# 코드 4-1. 키워드 is\n",
        "a = [1, 2]\n",
        "b = [1, 2]\n",
        "\n",
        "# 동등 비교 연산(==)으로 a와 b 비교 후 출력\n",
        "\n",
        "\n",
        "# 키워드 is로 a와 b 비교 후 출력\n"
      ]
    },
    {
      "cell_type": "markdown",
      "source": [
        "#### 4.1.2. 키워드 in과 not in\n",
        "\n",
        "> in\n",
        "\n",
        "키워드 `in`은 **대상이 컬렉션에 포함되어 있는지 검사**합니다. 예를 들어, 정수 3이 리스트 [3, 4, 5]의 원소인지 확인하려면 다음과 같은 코드를 사용합니다.\n",
        "\n",
        "```python\n",
        "3 in [3, 4, 5]  # 출력: True\n",
        "```\n",
        "\n",
        "결과는 `True` 또는 `False`로 반환되며, 포함될 때 `True`를 반환합니다.\n"
      ],
      "metadata": {
        "id": "UABaFXg_UAGl"
      }
    },
    {
      "cell_type": "code",
      "source": [
        "# 코드 4-2. 키워드 in\n",
        "c = 3\n",
        "\n",
        "# c가 3, 4, 5 중 하나인지 키워드 in으로 확인\n",
        "\n",
        "\n",
        "# c가 3, 4, 5 중 하나인지 논리 연산자로 확인\n"
      ],
      "metadata": {
        "id": "H4JlV8nCXbyh"
      },
      "execution_count": 2,
      "outputs": []
    },
    {
      "cell_type": "markdown",
      "source": [
        "값을 여러 대상에서 검사할 때, `in` 키워드를 사용하면 `or` 연산자를 사용하는 것보다 코드가 훨씬 간결합니다."
      ],
      "metadata": {
        "id": "JB_gBgS7ZUoD"
      }
    },
    {
      "cell_type": "markdown",
      "source": [
        "> not in\n",
        "\n",
        "키워드 `not in`은 **대상이 컬렉션에 포함되지 않는지 검사**합니다. 이는 키워드 `in`의 반대 연산자로, 값이 컬렉션에 존재하면 `True`, 존재하지 않으면 `False`를 반환합니다. 예를 들어, 정수 3이 리스트 [3, 4, 5]의 원소가 아닌지 확인하려면 다음과 같은 코드를 사용합니다.\n",
        "\n",
        "```python\n",
        "3 not in [3, 4, 5]  # 출력: False\n",
        "```\n",
        "\n",
        "결과는 `True` 또는 `False`로 반환되며, 포함될 때 `False`를 반환합니다.\n"
      ],
      "metadata": {
        "id": "eoqrR2maZdok"
      }
    },
    {
      "cell_type": "code",
      "source": [
        "# 코드 4-3. 키워드 not in\n",
        "d = 'banana'\n",
        "\n",
        "# d가 'banana', 'tomato', 'apple' 중 하나인지 not in으로 확인\n",
        "\n",
        "\n",
        "# 'banana'에 알파벳 'z'가 포함되어 있는지 not in으로 확인\n"
      ],
      "metadata": {
        "id": "4Cxi8tMAZ_GG"
      },
      "execution_count": 3,
      "outputs": []
    },
    {
      "cell_type": "markdown",
      "source": [
        "여기서 소개된 `is`, `in` 이외의 키워드는 관련 단원에서 학습합니다."
      ],
      "metadata": {
        "id": "P4NDfC_2kW71"
      }
    },
    {
      "cell_type": "markdown",
      "source": [
        "**😀 파이썬의 엑셀, 판다스 라이브러리 출판 안내**\n",
        "\n",
        "**서울대** 이성주 교수님과 **카이스트** 차유진 교수님이 추천한 데이터 분석 책 **『파이썬의 엑셀, 판다스 라이브러리』**가 출판되었습니다. 이 책은 입문자를 위해 데이터 분석 과정에서 가장 중요한 판다스 라이브러리를 쉽게 풀어쓴 **입문서**이며, 동시에 여러분의 데이터 처리 역량을 강화하는 데 큰 도움이 되는 **기본서**입니다.\n",
        "\n",
        "<img src=https://i.postimg.cc/MKg8TW75/01.jpg, width=600>\n",
        "\n",
        "🎈 [파이썬의 엑셀, 판다스 라이브러리 목차 확인](https://kimpanda.tistory.com/274)\n",
        "\n",
        "🎈 [교보문고 구매 페이지](https://product.kyobobook.co.kr/detail/S000214350781)"
      ],
      "metadata": {
        "id": "n1-R4Ev_A8Sn"
      }
    }
  ]
}