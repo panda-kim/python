{
  "nbformat": 4,
  "nbformat_minor": 0,
  "metadata": {
    "colab": {
      "provenance": []
    },
    "kernelspec": {
      "name": "python3",
      "display_name": "Python 3"
    },
    "language_info": {
      "name": "python"
    }
  },
  "cells": [
    {
      "cell_type": "markdown",
      "source": [
        "### 6.3. 기본값\n",
        "\n",
        "**기본값(default)은 함수 생성 시 매개변수에 설정된 값으로, 매개변수에 별도의 인수가 전달되지 않을 때 사용됩니다.** 이 기능을 활용하면 필요한 매개변수에만 인수를 전달하고, 나머지에는 기본값을 적용하여 유연하게 함수 호출이 가능합니다."
      ],
      "metadata": {
        "id": "pyHeFSgI9xUb"
      }
    },
    {
      "cell_type": "markdown",
      "source": [
        "#### 6.3.1. 기본값\n",
        "\n",
        "> 기본값\n",
        "\n",
        "기본값은 매개변수에 별도의 인수가 전달되지 않을 때 사용되는 값으로, **함수를 정의할 때 매개변수에 `=` 연산자를 사용해 지정합니다.** 이렇게 설정된 기본값은 함수 호출 시 해당 매개변수에 인수를 제공하지 않아도 자동으로 적용됩니다.\n"
      ],
      "metadata": {
        "id": "kZq8w5hu9xUc"
      }
    },
    {
      "cell_type": "code",
      "source": [
        "# 코드 6-4. 기본값\n",
        "\n",
        "# 기본값: x=0, y=1, z=2를 가지는 함수 f 정의\n",
        "def f(x=0, y=1, z=2):\n",
        "    return x + (2 * y) + (3 * z)\n",
        "\n",
        "# 함수 f를 호출하고 매개변수 y에만 인수 3을 전달하고 출력\n",
        "f(y=3)  # 출력: 12 (x=0, y=3, z=2)"
      ],
      "metadata": {
        "colab": {
          "base_uri": "https://localhost:8080/"
        },
        "id": "dFWU3Qo_sR1u",
        "outputId": "bb1af8dc-f29d-4912-b448-cd1bb029e569"
      },
      "execution_count": 1,
      "outputs": [
        {
          "output_type": "execute_result",
          "data": {
            "text/plain": [
              "12"
            ]
          },
          "metadata": {},
          "execution_count": 1
        }
      ]
    },
    {
      "cell_type": "markdown",
      "source": [
        "#### 6.3.2. 다양한 인수 전달 방식\n",
        "\n",
        "> 다양한 인수 전달 방식\n",
        "\n",
        "**함수를 호출할 때 위치 기반, 키워드 기반, 기본값을 혼용하여 인수를 전달할 수 있습니다.**"
      ],
      "metadata": {
        "id": "g0a6BAtEtAK6"
      }
    },
    {
      "cell_type": "code",
      "source": [
        "# 코드 6-5. 기본값을 활용한 다양한 함수 호출 방식\n",
        "\n",
        "# 기본값: x=0, y=1, z=2를 가지는 함수 f 정의\n",
        "def f(x=0, y=1, z=2):\n",
        "    return x + (2 * y) + (3 * z)\n",
        "\n",
        "# 다양한 함수 호출 방식 확인\n",
        "print(f(1, 2, 3))  # 위치 기반 인수, 출력: 14\n",
        "\n",
        "print(f(y=3, x=1, z=2))  # 키워드 기반 인수, 출력: 13\n",
        "\n",
        "print(f(1, z=2, y=3))  # x는 위치 기반, y와 z는 키워드 기반, 출력: 13\n",
        "\n",
        "print(f(y=3))  # y는 키워드 기반, x와 z는 기본값 사용, 출력: 12\n",
        "\n",
        "print(f(2))  # x는 위치 기반, y와 z는 기본값 사용, 출력: 10"
      ],
      "metadata": {
        "colab": {
          "base_uri": "https://localhost:8080/"
        },
        "id": "DnHOMjretJYF",
        "outputId": "b2f18285-c863-4070-b21b-05347d3c4864"
      },
      "execution_count": 2,
      "outputs": [
        {
          "output_type": "stream",
          "name": "stdout",
          "text": [
            "14\n",
            "13\n",
            "13\n",
            "12\n",
            "10\n"
          ]
        }
      ]
    },
    {
      "cell_type": "markdown",
      "source": [
        "다만, 인수만으로 함수를 호출하면 코드가 간결해질 수 있지만, 각 인수의 역할이 명확하지 않아 코드의 의미가 모호해질 수 있습니다. 특히, 매개변수가 많은 함수는 매개변수를 함께 명시하여 호출하는 것이 대체로 더 적합합니다."
      ],
      "metadata": {
        "id": "UpXjC1BrvCf3"
      }
    },
    {
      "cell_type": "markdown",
      "source": [
        "#### 6.3.3. 기본값 동적 할당\n",
        "\n",
        "> 기본값 동적 할당\n",
        "\n",
        "[코드 6-5]의 함수 `f`는 기본값으로 `x=0`, `y=1`, `z=2`와 같은 단일 값을 사용했습니다. 그러나 파이썬에서는 **기본값으로 None을 지정한 뒤, 함수 내부에서 조건문을 통해 필요한 기본값을 설정해** 더욱 유연하게 함수를 활용할 수 있습니다. 이를 통해 함수 호출 시 매개변수에 값이 전달되지 않은 경우에도 **동적으로 기본값을 처리**할 수 있습니다."
      ],
      "metadata": {
        "id": "yr293O2F9xUf"
      }
    },
    {
      "cell_type": "code",
      "source": [
        "# 코드 6-6. 기본값 동적 할당\n",
        "\n",
        "# 주문을 텍스트로 출력하는 함수 create_order 정의\n",
        "def create_order(n, menu='백반', q=None):\n",
        "    # 주문 수량 q가 지정되지 않으면 n으로 설정\n",
        "    if q is None:\n",
        "        q = n\n",
        "    return menu + str(q)\n",
        "\n",
        "# create_order 함수 사용 예시\n",
        "print(create_order(3))  # 출력: '백반3'\n",
        "print(create_order(2, '비빔밥'))  # 출력: '비빔밥2'\n",
        "print(create_order(3, '김치찌개', 4))  # 출력: '김치찌개4'"
      ],
      "metadata": {
        "colab": {
          "base_uri": "https://localhost:8080/"
        },
        "outputId": "d8234e46-878f-4e2e-f70b-d133920601d3",
        "id": "2Gl4fidf9xUf"
      },
      "execution_count": 3,
      "outputs": [
        {
          "output_type": "stream",
          "name": "stdout",
          "text": [
            "백반3\n",
            "비빔밥2\n",
            "김치찌개4\n"
          ]
        }
      ]
    },
    {
      "cell_type": "markdown",
      "source": [
        "정의된 `create_order` 함수는 식사 주문을 생성하는 함수로, 인원수 `n`, 주문할 메뉴 `menu`, 주문 수량 `q`를 매개변수로 받습니다. 매개변수 `n`에는 기본값이 없으며, 매개변수 `menu`는 기본값으로 '백반'이 설정되어 있고, 매개변수 `q`는 기본값으로 `None`이 설정되어 있습니다. 그리고 **함수 내부에서 `q`가 `None`일 경우 `q`에 `n`의 값이 할당**됩니다. 이를 통해 매개변수 `q`의 기본값에 입력된 인원수(`n`)가 동적으로 할당됩니다.\n",
        "\n",
        "**기본값이 `None`인 경우는 종종 함수 내에서 동적으로 값을 할당하기 위한 의도로 사용됩니다.** 그러나 모든 경우에 `None`이 동적 할당을 의미하는 것은 아니며, 실제로 `None` 자체가 전달될 의도로 사용되기도 합니다. 따라서 각 함수의 동작을 정확히 이해하기 위해 해당 **함수의 공식 문서를 참고**하는 것이 중요합니다."
      ],
      "metadata": {
        "id": "rKtF8-1P9xUg"
      }
    },
    {
      "cell_type": "markdown",
      "source": [
        "**😀 파이썬의 엑셀, 판다스 라이브러리 출판 안내**\n",
        "\n",
        "**서울대** 이성주 교수님과 **카이스트** 차유진 교수님이 추천한 데이터 분석 책 **『파이썬의 엑셀, 판다스 라이브러리』**가 출판되었습니다. 이 책은 입문자를 위해 데이터 분석 과정에서 가장 중요한 판다스 라이브러리를 쉽게 풀어쓴 **입문서**이며, 동시에 여러분의 데이터 처리 역량을 강화하는 데 큰 도움이 되는 **기본서**입니다.\n",
        "\n",
        "<img src=https://i.postimg.cc/MKg8TW75/01.jpg, width=600>\n",
        "\n",
        "🎈 [파이썬의 엑셀, 판다스 라이브러리 목차 확인](https://kimpanda.tistory.com/274)\n",
        "\n",
        "🎈 [교보문고 구매 페이지](https://product.kyobobook.co.kr/detail/S000214350781)"
      ],
      "metadata": {
        "id": "DYFgoCIjlO2p"
      }
    }
  ]
}