{
  "nbformat": 4,
  "nbformat_minor": 0,
  "metadata": {
    "colab": {
      "provenance": []
    },
    "kernelspec": {
      "name": "python3",
      "display_name": "Python 3"
    },
    "language_info": {
      "name": "python"
    }
  },
  "cells": [
    {
      "cell_type": "markdown",
      "source": [
        "## Chapter 8. 모듈\n",
        "\n",
        "데이터 분석 모듈을 학습하기 전에, 모듈에 관련된 개념을 정리합니다."
      ],
      "metadata": {
        "id": "-GlQLSTgyakd"
      }
    },
    {
      "cell_type": "markdown",
      "source": [
        "### 8.1. 모듈\n",
        "\n",
        "**모듈**은 **관련된 코드(함수, 클래스, 변수 등)를 하나의 파일로 묶어 놓은 파이썬 파일(.py) 또는 기능 단위로 제공되는 코드 집합**을 의미합니다. 이를 활용하면 코드를 재사용하고, 유지보수를 쉽게 할 수 있으며, 프로그램을 구조적으로 관리할 수 있습니다."
      ],
      "metadata": {
        "id": "lapQHcT2tZ_o"
      }
    },
    {
      "cell_type": "markdown",
      "source": [
        "#### 8.1.1. 모듈 관련 용어 정리\n",
        "\n",
        "> 용어 정리\n",
        "\n",
        "모듈과 혼용하여 사용하는 용어들을 정리하겠습니다.\n",
        "\n",
        "- **모듈**(module): 하나의 파일(.py)로 구성된 코드 꾸러미\n",
        "- **패키지**(package): 여러 개의 모듈이 폴더로 구성된 코드 꾸러미\n",
        "- **라이브러리**(Library): 여러 개의 패키지와 모듈을 포함한 코드 꾸러미\n",
        "\n",
        "모듈, 패키지, 라이브러리는 규모에 따라 구분될 뿐이며, 모두 통칭하여 **모듈**이라는 용어로 사용되기도 하므로 엄격하게 구분할 필요는 없습니다. 데이터 분석 모듈에서는 주로 넘파이(NumPy) 라이브러리와 판다스(Pandas) 라이브러리를 사용하며, 이들은 규모가 크기 때문에 라이브러리로 분류됩니다.\n"
      ],
      "metadata": {
        "id": "7GwfBq5dteS0"
      }
    },
    {
      "cell_type": "markdown",
      "source": [
        "#### 8.1.2. 모듈 설치 및 제거\n",
        "\n",
        "> 모듈 설치 및 제거\n",
        "\n",
        "기본적으로 모듈은 설치해야 사용할 수 있습니다. 다음 코드를 셀에 입력한 뒤 실행하면 모듈의 설치, 제거, 업데이트 및 버전 설정을 수행할 수 있습니다.\n",
        "\n",
        "- 모듈 설치\n",
        "\n",
        " ```python\n",
        "# 판다스 설치\n",
        "!pip install pandas\n",
        "```\n",
        "- 모듈 제거\n",
        "\n",
        " ```python\n",
        "# 판다스 제거\n",
        "!pip uninstall pandas -y\n",
        "```\n",
        "\n",
        "- 모듈 최신 버전 업데이트\n",
        "\n",
        " ```python\n",
        "# 판다스를 최신 버전으로 업데이트\n",
        "!pip install --upgrade pandas\n",
        "\n",
        "- 특정 버젼의 모듈 설치\n",
        "\n",
        " ```python\n",
        "# 2.2.2 버전의 판다스 설치\n",
        "!pip install pandas==2.2.2\n",
        "```\n",
        "\n",
        "다만, **판다스**나 **넘파이**와 같은 자주 쓰이는 모듈은 구글 코랩과 같은 파이썬 개발 환경에서는 이미 설치되어 있습니다. 따라서, 모듈이 설치되어 있지 않은 경우에만 위의 코드들을 사용하면 됩니다.\n"
      ],
      "metadata": {
        "id": "x4j6WO8myZBW"
      }
    },
    {
      "cell_type": "markdown",
      "source": [
        "#### 8.1.3. 모듈 불러오기\n",
        "\n",
        "키워드 `import`를 사용하여 모듈을 불러올 수 있습니다. 모듈을 불러오는 방법에는 여러 가지가 있으며, 상황에 따라 적절한 방식을 선택할 수 있습니다.\n",
        "\n",
        "> 모듈 불러오기\n",
        "\n",
        "가장 일반적인 방법은 **`import` 모듈명**을 사용하는 것입니다.\n",
        "\n",
        "```python\n",
        "import 모듈명\n",
        "```\n",
        "이 방법은 모듈 전체가 불러오기에, 모듈명과 함께 함수나 클래스를 호출해야 합니다. (예. `math` 모듈의 `factorial` 함수라면 `math.factorial`로 호출)\n"
      ],
      "metadata": {
        "id": "g7opLhrTy7KL"
      }
    },
    {
      "cell_type": "code",
      "source": [
        "# 코드 8-1. math 모듈 불러오기\n",
        "import math\n",
        "math.factorial(5)  # 출력: 120"
      ],
      "metadata": {
        "colab": {
          "base_uri": "https://localhost:8080/"
        },
        "id": "6WpnDYify_nz",
        "outputId": "e0109386-60db-43b3-ff0d-3f0395163b63"
      },
      "execution_count": 1,
      "outputs": [
        {
          "output_type": "execute_result",
          "data": {
            "text/plain": [
              "120"
            ]
          },
          "metadata": {},
          "execution_count": 1
        }
      ]
    },
    {
      "cell_type": "markdown",
      "source": [
        "> 별칭\n",
        "\n",
        "모듈명을 줄여서 사용하고 싶다면 별칭 형식을 사용합니다.\n",
        "\n",
        "```python\n",
        "import 모듈명 as 별칭\n",
        "```\n",
        "\n",
        "이 방법은 **긴 모듈명을 짧은 별칭으로 대체하여 코드 가독성을 높이는 데 유용**합니다. 해당 별칭을 사용해 모듈의 함수나 클래스를 호출합니다."
      ],
      "metadata": {
        "id": "lMarTwLDzwIs"
      }
    },
    {
      "cell_type": "code",
      "source": [
        "# 코드 8-2. math 모듈을 별칭 m으로 불러오기\n",
        "import math as m\n",
        "m.factorial(5)  # 출력: 120"
      ],
      "metadata": {
        "colab": {
          "base_uri": "https://localhost:8080/"
        },
        "id": "8aOvfSVbzL1B",
        "outputId": "d5913ddd-0c0c-4b2a-f5f2-48891868d445"
      },
      "execution_count": 2,
      "outputs": [
        {
          "output_type": "execute_result",
          "data": {
            "text/plain": [
              "120"
            ]
          },
          "metadata": {},
          "execution_count": 2
        }
      ]
    },
    {
      "cell_type": "markdown",
      "source": [
        "> 특정 기능만 불러오기\n",
        "\n",
        "모듈 전체를 불러오지 않고, 특정 기능(함수, 클래스, 변수 등)만 선택적으로 가져올 수도 있습니다.\n",
        "\n",
        "```python\n",
        "from 모듈명 import 기능명\n",
        "```\n",
        "\n",
        "이 경우, 모듈명을 붙이지 않고 바로 해당 기능을 사용할 수 있습니다."
      ],
      "metadata": {
        "id": "TO3fQdrI0RKv"
      }
    },
    {
      "cell_type": "code",
      "source": [
        "# 코드 8-3. math 모듈의 factorial 함수만 불러오기\n",
        "from math import factorial\n",
        "factorial(5)  # 출력: 120"
      ],
      "metadata": {
        "colab": {
          "base_uri": "https://localhost:8080/"
        },
        "id": "Y8yMDYHVzQJu",
        "outputId": "5667efef-2a05-48c0-b121-d12f10877602"
      },
      "execution_count": 3,
      "outputs": [
        {
          "output_type": "execute_result",
          "data": {
            "text/plain": [
              "120"
            ]
          },
          "metadata": {},
          "execution_count": 3
        }
      ]
    },
    {
      "cell_type": "markdown",
      "source": [
        "모듈을 불러오는 방법은 해당 모듈에서 일반적으로 사용하는 방식에 맞추는 것이 좋습니다. 예를 들어, 판다스는 보통 `import pandas as pd` 형태로 불러옵니다."
      ],
      "metadata": {
        "id": "Idr1hvex0bl4"
      }
    },
    {
      "cell_type": "markdown",
      "source": [
        "#### 8.1.4. 모듈 버전 확인\n",
        "\n",
        "> 모듈 버전 확인\n",
        "\n",
        "파이썬에서는 모듈의 버전을 확인할 때 `__version__` 속성을 사용합니다.\n",
        "예를 들어, 판다스의 버전을 확인하려면 다음과 같이 실행합니다.\n",
        "\n",
        "```python\n",
        "# 판다스 버전 확인\n",
        "pd.__version__\n",
        "```"
      ],
      "metadata": {
        "id": "uFbF-S-S0sxo"
      }
    },
    {
      "cell_type": "code",
      "source": [
        "# 코드 8-4. 판다스 라이브러리를 불러와 버전 확인\n",
        "import pandas as pd\n",
        "pd.__version__  # 판다스 버전 출력"
      ],
      "metadata": {
        "id": "DqKvGcU6zaLQ",
        "colab": {
          "base_uri": "https://localhost:8080/",
          "height": 35
        },
        "outputId": "2d7664a1-60b5-415c-9f19-4dc6985825cc"
      },
      "execution_count": 4,
      "outputs": [
        {
          "output_type": "execute_result",
          "data": {
            "text/plain": [
              "'2.2.2'"
            ],
            "application/vnd.google.colaboratory.intrinsic+json": {
              "type": "string"
            }
          },
          "metadata": {},
          "execution_count": 4
        }
      ]
    },
    {
      "cell_type": "markdown",
      "source": [
        "만약 버전 확인 결과가 책이나 강의에서 사용된 버전과 다르다면, 다음 코드를 사용하여 버전을 변경할 수 있습니다.\n",
        "\n",
        "```python\n",
        "# 2.2.2 버전의 판다스 설치\n",
        "!pip install pandas==2.2.2\n",
        "```"
      ],
      "metadata": {
        "id": "mwUlK9NU1VKJ"
      }
    },
    {
      "cell_type": "markdown",
      "source": [
        "#### 8.1.5. 다양한 모듈 소개\n",
        "\n",
        "> 다양한 모듈 소개\n",
        "\n",
        "파이썬은 다양한 모듈을 지원합니다. 다음은 그 예시입니다.\n",
        "\n",
        "- os: 운영 체제 기능 제공 (파일/디렉토리 관리, 환경 변수 등)\n",
        "\n",
        "- sys: 파이썬 인터프리터와 관련된 기능 (명령행 인자, 표준 입출력 등)\n",
        "\n",
        "- io: 파일, 스트림 작업을 위한 다양한 도구 제공\n",
        "\n",
        "- glob: 파일 경로 패턴 매칭\n",
        "\n",
        "- json: JSON 데이터 처리\n",
        "\n",
        "- csv: CSV 파일 읽기/쓰기\n",
        "\n",
        "- beautifulsoup: HTML 및 XML 문서 파싱(웹 크롤링에 유용)\n",
        "\n",
        "- math: 기본 수학 함수 (삼각함수, 로그 등)\n",
        "\n",
        "- statistics: 통계 함수 (평균, 분산, 중앙값 등)\n",
        "\n",
        "- random: 난수 생성 및 무작위 선택\n",
        "\n",
        "- decimal: 고정소수점 및 임의 정밀도 산술\n",
        "\n",
        "- fractions: 분수 표현과 연산\n",
        "\n",
        "- datetime: 날짜와 시간 조작\n",
        "\n",
        "- time: 시간 측정 및 처리\n",
        "\n",
        "- calendar: 달력 관련 기능\n",
        "\n",
        "- re: 정규 표현식\n",
        "\n",
        "- string: 문자열 관련 상수 및 유틸리티\n",
        "\n",
        "- itertools: 반복자 생성기 및 조합 함수\n",
        "\n",
        "- enum: 열거형 클래스\n"
      ],
      "metadata": {
        "id": "DRDuDfKtzC5f"
      }
    },
    {
      "cell_type": "markdown",
      "source": [
        "#### 8.1.6. 데이터 분석 모듈 소개\n",
        "\n",
        "> 데이터 분석 모듈 소개\n",
        "\n",
        "주요 데이터 분석 모듈은 다음과 같습니다.\n",
        "\n",
        "- 판다스(Pandas): 표를 효율적으로 처리하고 분석할 수 있는 데이터 프레임과 시리즈를 제공합니다. 여러분이 가장 먼저 배울 라이브러리입니다.\n",
        "\n",
        "- 넘파이(Numpy): 고성능 다차원 행렬과 행렬 연산을 지원하는 라이브러리입니다.\n",
        "\n",
        "\n",
        "- 맷플롯립(Matplotlib): 데이터를 시각적으로 표현하기 위한 기본 그래프 도구를 제공합니다.\n",
        "\n",
        "- 시본(Seaborn): 맷플롯립 기반으로 더욱 직관적이고 아름다운 데이터 시각화를 지원합니다."
      ],
      "metadata": {
        "id": "ONSHrcp7zGWa"
      }
    },
    {
      "cell_type": "markdown",
      "source": [
        "> 데이터 분석 입문\n",
        "\n",
        "데이터 분석을 학습하면 보통 넘파이(Numpy), 판다스(Pandas), 맷플롯립(Matplotlib), 시본(Seaborn)까지 모두 배우게 됩니다.\n",
        "하지만 학습 순서가 중요합니다.\n",
        "\n",
        "먼저, 맷플롯립과 시본은 시각화 라이브러리이므로 데이터를 처리할 수 있어야 제대로 활용할 수 있습니다.\n",
        "따라서, 데이터를 다룰 수 있는 판다스나 넘파이부터 학습하는 것이 좋습니다.\n",
        "\n",
        "여러분이 **현재 행렬을 활용하여 데이터를 다룬다면, 넘파이부터 학습**하는 것이 좋습니다.\n",
        "반면, **엑셀 등에서 표로 데이터를 다룬다면, 판다스로 시작**하는 것이 적합합니다. 학생이라면 판다스로 시작하는 것을 추천합니다.\n",
        "\n"
      ],
      "metadata": {
        "id": "N_ChWZv12xqV"
      }
    },
    {
      "cell_type": "markdown",
      "source": [
        "> 파이썬의 엑셀, 판다스 라이브러리\n",
        "\n",
        "\n",
        "\n",
        "<img src=https://i.postimg.cc/rwjGxqQ6/1.jpg, width=600>\n",
        "\n",
        "이 책은 판다스의 기초부터 심화까지 모두 다룬, 판다스의 기본서입니다.\n",
        "\n",
        "데이터 분석 입문은 탄탄한 기본서로 시작하시는 것을 추천드립니다.\n",
        "\n",
        "[파이썬의 엑셀, 판다스 라이브러리 목차 확인](https://kimpanda.tistory.com/274)"
      ],
      "metadata": {
        "id": "xHybKIiK4JmI"
      }
    }
  ]
}