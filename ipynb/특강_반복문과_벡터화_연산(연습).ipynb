{
  "nbformat": 4,
  "nbformat_minor": 0,
  "metadata": {
    "colab": {
      "provenance": []
    },
    "kernelspec": {
      "name": "python3",
      "display_name": "Python 3"
    },
    "language_info": {
      "name": "python"
    }
  },
  "cells": [
    {
      "cell_type": "markdown",
      "source": [
        "### 특강. 반복문과 벡터화 연산\n",
        "\n",
        "> 데이터 분석 모듈에서 문제 해결 방법\n",
        "\n",
        "기본 파이썬에서는 반복문을 활용해 대부분의 문제를 해결하지만, 데이터 분석 모듈에서는 배열 단위로 연산을 수행하는 **벡터화 연산**을 사용합니다.\n",
        "\n",
        "데이터 분석 모듈인 **판다스 라이브러리**의 해결 방법을 아래의 [코드 5-11]과 코드 [5-12]에서 확인할 수 있습니다.\n",
        "\n",
        "**🚨 주의 사항**\n",
        "\n",
        "지금부터 판다스 라이브러리를 실습에 활용할 것입니다. 만약 여러분이 구글 코랩이 아닌 환경에서 실습하는 경우, **먼저 판다스 라이브러리를 사용하려면 설치해야 합니다.** 코랩 이용자가 아닌 경우 설치를 위해 다음 코드를 실행하거나, **8장 모듈**을 학습한 후 실습하는 것을 권장합니다.\n",
        "\n",
        "```python\n",
        "# 판다스 라이브러리 설치 (구글 코랩은 이미 판다스가 설치되어 있음)\n",
        "!pip install pandas\n",
        "```\n",
        "**구글 코랩에서 실습하는 경우, 별도의 설치 없이 그대로 실습을 진행할 수 있습니다.**"
      ],
      "metadata": {
        "id": "JyxhZ41ah3_Y"
      }
    },
    {
      "cell_type": "markdown",
      "source": [
        "> 배열 매핑\n",
        "\n",
        "배열을 매핑하는 `for` 문의 코드 [코드 5-7]\n",
        "\n",
        "```python\n",
        "# 코드 5-7. for 문으로 배열 매핑하기\n",
        "c = [1, 2, 3, 5]\n",
        "result = []  # 결과를 담을 빈 리스트 result 생성\n",
        "\n",
        "# 리스트 c의 각 원소를 두 배로 매핑한 result 생성\n",
        "for i in c:\n",
        "    result.append(i * 2)  # 각 원소에 2를 곱해 result에 추가\n",
        "\n",
        "# 변수 result 출력\n",
        "result  # 출력: [2, 4, 6, 10]\n",
        "\n",
        "```"
      ],
      "metadata": {
        "id": "erIwFo-LeTYj"
      }
    },
    {
      "cell_type": "markdown",
      "source": [
        "데이터 분석 모듈 **판다스**에서 배열 매핑"
      ],
      "metadata": {
        "id": "G0QvJdi6ec0b"
      }
    },
    {
      "cell_type": "code",
      "source": [
        "# 코드 5-11. 판다스로 각 원소를 두 배로 매핑(코드 5-7과 비교)\n",
        "\n",
        "# 판다스 라이브러리 불러오기\n",
        "import pandas as pd\n",
        "\n",
        "# 리스트 c로 시리즈 s 생성\n",
        "c = [1, 2, 3, 5]\n",
        "s = pd.Series(c, index=['A', 'B', 'C', 'D'])\n",
        "\n",
        "# 시리즈 s 출력\n",
        "print(s)\n",
        "\n",
        "# 시리즈 s의 각 원소를 두 배로 매핑한 결과 출력(문제 해결 코드)\n",
        "s * 2"
      ],
      "metadata": {
        "colab": {
          "base_uri": "https://localhost:8080/",
          "height": 301
        },
        "id": "ATs7lWJOz47X",
        "outputId": "2482cb97-fe62-4f53-f151-a8b47caa8065"
      },
      "execution_count": 1,
      "outputs": [
        {
          "output_type": "stream",
          "name": "stdout",
          "text": [
            "A    1\n",
            "B    2\n",
            "C    3\n",
            "D    5\n",
            "dtype: int64\n"
          ]
        },
        {
          "output_type": "execute_result",
          "data": {
            "text/plain": [
              "A     2\n",
              "B     4\n",
              "C     6\n",
              "D    10\n",
              "dtype: int64"
            ],
            "text/html": [
              "<div>\n",
              "<style scoped>\n",
              "    .dataframe tbody tr th:only-of-type {\n",
              "        vertical-align: middle;\n",
              "    }\n",
              "\n",
              "    .dataframe tbody tr th {\n",
              "        vertical-align: top;\n",
              "    }\n",
              "\n",
              "    .dataframe thead th {\n",
              "        text-align: right;\n",
              "    }\n",
              "</style>\n",
              "<table border=\"1\" class=\"dataframe\">\n",
              "  <thead>\n",
              "    <tr style=\"text-align: right;\">\n",
              "      <th></th>\n",
              "      <th>0</th>\n",
              "    </tr>\n",
              "  </thead>\n",
              "  <tbody>\n",
              "    <tr>\n",
              "      <th>A</th>\n",
              "      <td>2</td>\n",
              "    </tr>\n",
              "    <tr>\n",
              "      <th>B</th>\n",
              "      <td>4</td>\n",
              "    </tr>\n",
              "    <tr>\n",
              "      <th>C</th>\n",
              "      <td>6</td>\n",
              "    </tr>\n",
              "    <tr>\n",
              "      <th>D</th>\n",
              "      <td>10</td>\n",
              "    </tr>\n",
              "  </tbody>\n",
              "</table>\n",
              "</div><br><label><b>dtype:</b> int64</label>"
            ]
          },
          "metadata": {},
          "execution_count": 1
        }
      ]
    },
    {
      "cell_type": "markdown",
      "source": [
        "> 각 행의 합 도출\n",
        "\n",
        "다중 변수 `for` 문으로 각 행의 합을 구하는 [코드 5-9]\n",
        "\n",
        "```python\n",
        "# 코드 5-9. 다중 변수 for 문\n",
        "d = [[1, 2], [3, 4], [5, 6]]\n",
        "result = []  # 결과를 담을 빈 리스트 result 생성\n",
        "\n",
        "# 2차원 리스트 d에서 각 행의 합을 구해서 1차원 리스트로 변환\n",
        "for i, j in d:\n",
        "    result.append(i + j)  # i와 j의 합을 result에 추가\n",
        "\n",
        "# 변수 result 출력\n",
        "result  # 출력: [3, 7, 11]\n",
        "```"
      ],
      "metadata": {
        "id": "8JD2ZqxyejIC"
      }
    },
    {
      "cell_type": "markdown",
      "source": [
        "데이터 분석 모듈 **판다스**에서 각 행의 합 도출"
      ],
      "metadata": {
        "id": "hN13hSx1ejnS"
      }
    },
    {
      "cell_type": "code",
      "source": [
        "# 코드 5-12. 판다스로 각 행의 합을 구해서 1차원으로 변환(코드 5-9와 비교)\n",
        "\n",
        "# 판다스 라이브러리 불러오기\n",
        "import pandas as pd\n",
        "\n",
        "# 리스트 d로 데이터 프레임 df 생성\n",
        "d = [[1, 2], [3, 4], [5, 6]]\n",
        "df = pd.DataFrame(d, index=['A', 'B', 'C'], columns=['col1', 'col2'])\n",
        "\n",
        "# 데이터 프레임 df 출력\n",
        "print(df)\n",
        "\n",
        "# df에서 각 행의 합을 구해서 1차원으로 변환(문제 해결 코드)\n",
        "df.sum(axis=1)"
      ],
      "metadata": {
        "colab": {
          "base_uri": "https://localhost:8080/",
          "height": 251
        },
        "id": "CsVAbG1f0d_1",
        "outputId": "8a77d045-9bec-49f2-905a-d91fd191d815"
      },
      "execution_count": 2,
      "outputs": [
        {
          "output_type": "stream",
          "name": "stdout",
          "text": [
            "   col1  col2\n",
            "A     1     2\n",
            "B     3     4\n",
            "C     5     6\n"
          ]
        },
        {
          "output_type": "execute_result",
          "data": {
            "text/plain": [
              "A     3\n",
              "B     7\n",
              "C    11\n",
              "dtype: int64"
            ],
            "text/html": [
              "<div>\n",
              "<style scoped>\n",
              "    .dataframe tbody tr th:only-of-type {\n",
              "        vertical-align: middle;\n",
              "    }\n",
              "\n",
              "    .dataframe tbody tr th {\n",
              "        vertical-align: top;\n",
              "    }\n",
              "\n",
              "    .dataframe thead th {\n",
              "        text-align: right;\n",
              "    }\n",
              "</style>\n",
              "<table border=\"1\" class=\"dataframe\">\n",
              "  <thead>\n",
              "    <tr style=\"text-align: right;\">\n",
              "      <th></th>\n",
              "      <th>0</th>\n",
              "    </tr>\n",
              "  </thead>\n",
              "  <tbody>\n",
              "    <tr>\n",
              "      <th>A</th>\n",
              "      <td>3</td>\n",
              "    </tr>\n",
              "    <tr>\n",
              "      <th>B</th>\n",
              "      <td>7</td>\n",
              "    </tr>\n",
              "    <tr>\n",
              "      <th>C</th>\n",
              "      <td>11</td>\n",
              "    </tr>\n",
              "  </tbody>\n",
              "</table>\n",
              "</div><br><label><b>dtype:</b> int64</label>"
            ]
          },
          "metadata": {},
          "execution_count": 2
        }
      ]
    },
    {
      "cell_type": "markdown",
      "source": [
        "[코드 5-11]과 [코드 5-12]에서 마지막 행인 **문제 해결 코드**만 주목합니다. 데이터 분석 모듈인 판다스의 **시리즈**나 **데이터 프레임** 클래스를 사용하면, `s * 2` 코드만으로 [코드 5-7]의 기능을 수행할 수 있으며, `df.sum(axis=1)` 코드만으로 [코드 5-9]의 기능을 수행할 수 있습니다.\n",
        "\n",
        "이렇게 **배열 단위로 연산을 수행**하는 것이 **벡터화 연산**이며, 데이터 분석 모듈은 벡터화 연산을 통해 연산을 매우 간결하게 처리합니다. 따라서 데이터 분석만 수행하는 경우 반복문의 사용은 제한적입니다.\n",
        "\n",
        "다만, 다양한 모듈을 사용하는 것이 목표라면 반복문은 여전히 강력한 도구로 활용됩니다."
      ],
      "metadata": {
        "id": "mEmEQAeGi1_Q"
      }
    },
    {
      "cell_type": "markdown",
      "source": [
        "**😀 파이썬의 엑셀, 판다스 라이브러리 출판 안내**\n",
        "\n",
        "**서울대** 이성주 교수님과 **카이스트** 차유진 교수님이 추천한 데이터 분석 책 **『파이썬의 엑셀, 판다스 라이브러리』**가 출판되었습니다. 이 책은 입문자를 위해 데이터 분석 과정에서 가장 중요한 판다스 라이브러리를 쉽게 풀어쓴 **입문서**이며, 동시에 여러분의 데이터 처리 역량을 강화하는 데 큰 도움이 되는 **기본서**입니다.\n",
        "\n",
        "<img src=https://i.postimg.cc/MKg8TW75/01.jpg, width=600>\n",
        "\n",
        "🎈 [파이썬의 엑셀, 판다스 라이브러리 목차 확인](https://kimpanda.tistory.com/274)\n",
        "\n",
        "🎈 [교보문고 구매 페이지](https://product.kyobobook.co.kr/detail/S000214350781)"
      ],
      "metadata": {
        "id": "qnJDd79oks6_"
      }
    }
  ]
}