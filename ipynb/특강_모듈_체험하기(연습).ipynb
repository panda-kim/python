{
  "nbformat": 4,
  "nbformat_minor": 0,
  "metadata": {
    "colab": {
      "provenance": []
    },
    "kernelspec": {
      "name": "python3",
      "display_name": "Python 3"
    },
    "language_info": {
      "name": "python"
    }
  },
  "cells": [
    {
      "cell_type": "markdown",
      "source": [
        "### 특강. 모듈 체험하기\n",
        "\n",
        "여러분의 궁금증을 해소하고 동기를 부여하기 위해 모듈을 직접 체험하는 시간을 갖겠습니다. 이를 위한 예제로, 팩토리얼을 구하는 방법을 살펴보겠습니다.\n",
        "\n",
        "> 팩토리알 구하기\n",
        "\n",
        "**팩토리얼(Factorial)**은 어떤 자연수 n에 대해 1부터 n까지의 모든 정수를 곱한 값을 의미합니다. 팩토리얼은 수학에서 순열, 조합, 확률 계산 등 다양한 분야에서 사용됩니다. 예를 들어, 5의 팩토리얼은 다음과 같습니다.\n",
        "\n",
        "```\n",
        "5! = 5 × 4 × 3 × 2 × 1 = 120\n",
        "```\n",
        "\n"
      ],
      "metadata": {
        "id": "6zt7K3kOOWXR"
      }
    },
    {
      "cell_type": "markdown",
      "source": [
        "> 제어문으로 팩토리알 구하기\n",
        "\n",
        "여러분이 n!을 구하는 코드를 파이썬으로 구현할 때, 모듈을 사용하지 않는다면 다음과 같은 제어문(반복문)을 사용합니다."
      ],
      "metadata": {
        "id": "4q7_EnEXOWXT"
      }
    },
    {
      "cell_type": "code",
      "source": [
        "# 참고 1. 제어문으로 팩토리알 구하기\n",
        "n = 5  # 변수 n에 정수 5를 할당\n",
        "\n",
        "result = 1  # 팩토리얼 계산 결과를 저장할 변수 초기화\n",
        "for i in range(1, n + 1):  # 1부터 n까지 반복하며 곱하기\n",
        "    result *= i  # result에 i를 곱하고 다시 result에 할당\n",
        "\n",
        "print(result)  # 출력: 120 (5!)"
      ],
      "metadata": {
        "colab": {
          "base_uri": "https://localhost:8080/"
        },
        "id": "Wj-wpJYNOWXT",
        "outputId": "ea72cd7d-bdc0-4ffc-ae35-bce99f7b83dc"
      },
      "execution_count": 1,
      "outputs": [
        {
          "output_type": "stream",
          "name": "stdout",
          "text": [
            "120\n"
          ]
        }
      ]
    },
    {
      "cell_type": "markdown",
      "source": [
        "제어문(반복문)은 추후 학습할 내용이므로 위 코드에 대해 몰라도 괜찮습니다. 중요한 것은, 위와 같은 **제어문을 사용하여 팩토리얼을 구하는 것이 모듈 없이 기본 파이썬만으로 문제를 해결하는 방법**이라는 점입니다."
      ],
      "metadata": {
        "id": "VHtAkRHjOWXU"
      }
    },
    {
      "cell_type": "markdown",
      "source": [
        "> 모듈로 팩토리알 구하기\n",
        "\n",
        "판다스에는 다양한 모듈이 있으며, 그중 **math** 모듈은 여러 수학 관련 함수와 기능을 제공합니다. **math** 모듈의 `factorial` 함수를 사용하면 제어문을 직접 구현하는 것보다 훨씬 쉽게 팩토리얼을 계산할 수 있습니다."
      ],
      "metadata": {
        "id": "dYZIa-iuOWXU"
      }
    },
    {
      "cell_type": "code",
      "source": [
        "# 참고 2: math 모듈을 사용하여 팩토리얼 구하기\n",
        "import math  # math 모듈 불러오기\n",
        "math.factorial(5)  # math 모듈의 factorial 함수로 5! 계산: 120"
      ],
      "metadata": {
        "colab": {
          "base_uri": "https://localhost:8080/"
        },
        "outputId": "6a07613c-c9bd-414b-8107-0f64112d9dd7",
        "id": "EIU4_yRLOWXU"
      },
      "execution_count": 2,
      "outputs": [
        {
          "output_type": "execute_result",
          "data": {
            "text/plain": [
              "120"
            ]
          },
          "metadata": {},
          "execution_count": 2
        }
      ]
    },
    {
      "cell_type": "markdown",
      "source": [
        "기본 파이썬으로 문제를 해결하려면 제어문을 사용해야 하지만, 모듈을 활용하면 해당 기능을 제공하는 함수를 사용하여 더 쉽게 해결할 수 있습니다. 모듈의 함수를 사용하면 코드가 간결해지고 직관성이 높아집니다.\n",
        "\n",
        "데이터 분석 모듈인 **넘파이(Numpy)**와 **판다스(Pandas)**는 더욱 강력한 기능을 간결한 함수로 제공합니다. 이러한 모듈을 활용하여 데이터 처리 능력을 크게 향상시킬 수 있습니다."
      ],
      "metadata": {
        "id": "BzFZ2bIvOWXV"
      }
    },
    {
      "cell_type": "markdown",
      "source": [
        "**😀 파이썬의 엑셀, 판다스 라이브러리 출판 안내**\n",
        "\n",
        "**서울대** 이성주 교수님과 **카이스트** 차유진 교수님이 추천한 데이터 분석 책 **『파이썬의 엑셀, 판다스 라이브러리』**가 출판되었습니다. 이 책은 입문자를 위해 데이터 분석 과정에서 가장 중요한 판다스 라이브러리를 쉽게 풀어쓴 **입문서**이며, 동시에 여러분의 데이터 처리 역량을 강화하는 데 큰 도움이 되는 **기본서**입니다.\n",
        "\n",
        "<img src=https://i.postimg.cc/MKg8TW75/01.jpg, width=600>\n",
        "\n",
        "🎈 [파이썬의 엑셀, 판다스 라이브러리 목차 확인](https://kimpanda.tistory.com/274)\n",
        "\n",
        "🎈 [교보문고 구매 페이지](https://product.kyobobook.co.kr/detail/S000214350781)"
      ],
      "metadata": {
        "id": "OpviOP8jXHoU"
      }
    }
  ]
}