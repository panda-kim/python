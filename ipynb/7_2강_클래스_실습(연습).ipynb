{
  "nbformat": 4,
  "nbformat_minor": 0,
  "metadata": {
    "colab": {
      "provenance": []
    },
    "kernelspec": {
      "name": "python3",
      "display_name": "Python 3"
    },
    "language_info": {
      "name": "python"
    }
  },
  "cells": [
    {
      "cell_type": "markdown",
      "source": [
        "### 7.2. 클래스 실습\n",
        "\n",
        "지금부터 클래스, 객체, 속성, 메서드의 생성과 활용을 실습합니다. 실제 데이터 분석 모듈에서 직접 클래스를 생성할 일은 없으며, 데이터 분석 모듈 입문자에게 가장 중요한 것은 클래스의 개념을 받아들이는 것입니다.\n",
        "\n",
        "따라서, 클래스 **실습의 목적도 개념을 이해하는 것**임을 잊지 말아야 하며, 실습이 어렵다면 추후 데이터 분석 모듈에 입문한 후 다시 돌아와 학습하는 것도 좋은 방법입니다. **7.2 클래스 실습 단원의 전체 내용이 심화 과정**이므로 **데이터 분석 모듈 입문 만이 목적이라면 필수가 아닙니다.**"
      ],
      "metadata": {
        "id": "a7HjTPNCrGXC"
      }
    },
    {
      "cell_type": "markdown",
      "source": [
        "#### 7.2.1. 클래스 정의\n",
        "\n",
        "> 클래스 정의\n",
        "\n",
        "**`class` 키워드를 사용하여 클래스를 정의하며, 클래스명은 카멜 표기법을 따르는 것이 일반적**입니다.\n",
        "\n",
        "```python\n",
        "class 클래스명:\n",
        "```"
      ],
      "metadata": {
        "id": "KPlPK86B1iw9"
      }
    },
    {
      "cell_type": "code",
      "source": [
        "# 코드 7-2. StuRecord 클래스 정의\n",
        "class StuRecord:  # 빈 클래스 정의\n",
        "    pass"
      ],
      "metadata": {
        "id": "A4-8TkkU2obV"
      },
      "execution_count": 1,
      "outputs": []
    },
    {
      "cell_type": "markdown",
      "source": [
        "`StuRecord` 클래스는 학생의 성적을 저장하는 목적의 클래스입니다. [코드 7-2]로 `StuRecord` 클래스를 정의할 수 있지만, 데이터를 저장하거나 사용할 수 있는 기능이 전혀 없습니다. 이를 해결하기 위해 **생성자 메서드**(`__init__` 메서드)가 필요합니다."
      ],
      "metadata": {
        "id": "FDZkGmN42pAH"
      }
    },
    {
      "cell_type": "markdown",
      "source": [
        "#### 7.2.2. 생성자 메서드\n",
        "\n",
        "> 생성자 메서드\n",
        "\n",
        "클래스는 데이터를 저장하고 효율적으로 관리하는 것이 목적이므로, 객체를 만들 때 초기 데이터를 입력받아 저장할 수 있어야 합니다. 그러나 [코드 7-2]의 `StuRecord` 클래스는 데이터를 입력받을 수 없기 때문에 본래 클래스의 취지에 어긋납니다.\n",
        "\n",
        "**생성자 메서드(`__init__` 메서드)**를 정의하면 객체가 생성될 때 자동으로 실행되며, 초기 데이터를 설정하는 역할을 합니다."
      ],
      "metadata": {
        "id": "luSKkSb-0jAp"
      }
    },
    {
      "cell_type": "markdown",
      "source": [
        "> 생성자 메서드 정의\n",
        "\n",
        "생성자 메서드 역시 메서드의 일종이므로 클래스 내부에서 `def` 키워드를 사용하여 정의합니다. **생성자 메서드는 클래스가 입력받을 데이터를 매개변수로 지정**합니다.\n",
        "\n",
        "다만, **모든 메서드는 객체가 첫 번째 인수로 자동 전달되므로, 첫 번째 매개변수로 항상 `self`를 설정해야 합니다.** `self`는 생성된 객체를 의미합니다.\n",
        "\n",
        "아래의 [코드 7-3]은 객체를 생성할 때 클래스를 호출한 뒤 매개변수 `correct`와 `name`으로 데이터 전달받는 코드입니다. 매개변수 `correct`는 정답인 문제의 개수를 의미하고(전체가 10 문제인 시험), 매개변수 `name`은 학생의 이름입니다."
      ],
      "metadata": {
        "id": "P2p7wlQj23H9"
      }
    },
    {
      "cell_type": "code",
      "execution_count": 2,
      "metadata": {
        "id": "MbXWQcJfXDq3"
      },
      "outputs": [],
      "source": [
        "# 코드 7-3. StuRecord 클래스에 생성자 메서드 정의\n",
        "\n",
        "# StuRecord 클래스 정의\n",
        "class StuRecord:\n",
        "    # 생성자 메서드 정의\n",
        "    def __init__(self, correct, name):  # 매개변수 correct와 name에 인수 전달\n",
        "        pass  # 현재는 아무 작업도 하지 않음"
      ]
    },
    {
      "cell_type": "markdown",
      "source": [
        "참고로, `__init__`처럼 특정한 기능을 수행하도록 정해진 메서드를 **특수 메서드**라고 하며, 이러한 메서드는 앞뒤를 \\_\\_(언더스코어 두 개)로 감싸서 정의됩니다."
      ],
      "metadata": {
        "id": "oVhUl5Au3l8Z"
      }
    },
    {
      "cell_type": "markdown",
      "source": [
        "> 객체 생성\n",
        "\n",
        "[코드 7-3]의 `StuRecord` 클래스를 사용하여 객체를 생성할 때, 클래스를 호출하면서 매개변수 `correct`와 `name`에 데이터를 전달합니다.  김판다 학생은 6 문제에서 정답을 맞혔습니다."
      ],
      "metadata": {
        "id": "MXDWa8nS4xAX"
      }
    },
    {
      "cell_type": "code",
      "source": [
        "# 코드 7-4. 코드 7-3의 StuRecord 클래스로 객체 생성\n",
        "StuRecord(correct=6, name='김판다')"
      ],
      "metadata": {
        "colab": {
          "base_uri": "https://localhost:8080/"
        },
        "id": "lkKb0mkC3i7s",
        "outputId": "d9fdbf0a-fe2a-480c-fe14-51664deb1037"
      },
      "execution_count": 3,
      "outputs": [
        {
          "output_type": "execute_result",
          "data": {
            "text/plain": [
              "<__main__.StuRecord at 0x7e8bcd08e450>"
            ]
          },
          "metadata": {},
          "execution_count": 3
        }
      ]
    },
    {
      "cell_type": "markdown",
      "source": [
        "다만, 생성된 객체는 `<__main__.StuRecord at 0x7f5305b982d0>`와 같은 형태로 출력됩니다.\n",
        "\n",
        "이 출력 값은 현재 실행 중인 파일(`__main__`)에서 정의된 `StuRecord` 클래스의 객체임을 나타내며, `0x7f5305b982d0`은 해당 객체가 저장된 메모리 주소를 의미합니다. 파이썬의 내장 클래스인 `zip`, `enumerate`, `map` 등도 동일한 방식으로 출력됩니다.\n",
        "\n",
        "🖇️\n",
        "이는 객체의 출력 형식을 지정하는 `__repr__` 메서드를 정의하지 않았기 때문입니다.\n",
        "추후 `__repr__` 메서드를 살펴보면서 출력 형식을 직접 지정하는 방법을 학습합니다."
      ],
      "metadata": {
        "id": "YCiIhlgP6NzV"
      }
    },
    {
      "cell_type": "markdown",
      "source": [
        "#### 7.2.3. 속성\n",
        "\n",
        "> 속성\n",
        "\n",
        "**속성은 데이터를 저장하기 위해 클래스 내부에서 정의된 변수**입니다. 생성자 메서드에서 매개변수로 데이터를 전달받을 수 있지만, 이를 **속성으로 할당하지 않으면 객체 내부에 저장되지 않으므로 사용할 수 없습니다.** 따라서, 생성자 메서드 내부에서 속성을 할당해야 합니다.\n"
      ],
      "metadata": {
        "id": "F3bonkDc7bOn"
      }
    },
    {
      "cell_type": "markdown",
      "source": [
        "\n",
        "> 속성의 할당\n",
        "\n",
        "**속성은 객체에 종속된 변수이므로, 반드시 생성자 메서드 내부에서 `self.`을 붙여 정의해야 합니다.** 변수명은 자유롭게 지정할 수 있으나 일반적으로 생성자 메서드의 매개변수 이름과 동일한 변수명으로 속성을 설정합니다.\n",
        "\n",
        "따라서, 속성을 할당하는 일반적인 방법은 다음과 같습니다.\n",
        "\n",
        "```\n",
        "self.속성명 = 값\n",
        "```\n",
        "\n",
        "[코드 7-5]는 생성자 메서드에서 속성을 할당합니다. 학생의 이름을 name 속성에 할당하고, 학생의 점수를 score 속성에 할당합니다. 전체가 10문제이므로, 정답인 문제의 개수에 10을 곱하면 점수가 됩니다."
      ],
      "metadata": {
        "id": "LmKpiLpq8nGJ"
      }
    },
    {
      "cell_type": "code",
      "source": [
        "# 코드 7-5. StuRecord 클래스에 생성자 메서드 정의하고 속성을 할당\n",
        "\n",
        "# StuRecord 클래스 정의\n",
        "class StuRecord:\n",
        "    # 생성자 메서드 정의\n",
        "    def __init__(self, correct, name):  # 매개변수 correct와 name에 인수 전달\n",
        "        # 매개변수 name의 인수를 name 속성에 할당\n",
        "        self.name = name\n",
        "        # 매개변수 correct에 전달된 인수 * 10을 score 속성에 할당\n",
        "        self.score = correct * 10"
      ],
      "metadata": {
        "id": "mUHcsust8u6b"
      },
      "execution_count": 4,
      "outputs": []
    },
    {
      "cell_type": "markdown",
      "source": [
        "> 속성 참조\n",
        "\n",
        "속성을 참조하려면 먼저 객체를 생성해야 합니다. [코드 7-5]에서 정의한 `StuRecord` 클래스로 객체 생성하고, 생성한 객체를 변수 `stu1`에 할당합니다. 김판다 학생은 6 문제에서 정답을 맞혔습니다.\n"
      ],
      "metadata": {
        "id": "2eGEpqdz-Ca1"
      }
    },
    {
      "cell_type": "code",
      "source": [
        "# 코드 7-6. 코드 7-5의 StuRecord 클래스로 객체를 생성하고 변수 stu1에 할당\n",
        "stu1 = StuRecord(correct=6, name='김판다')"
      ],
      "metadata": {
        "id": "1zCCcsfmx-Sq"
      },
      "execution_count": 5,
      "outputs": []
    },
    {
      "cell_type": "markdown",
      "source": [
        "생성된 객체의 속성에 저장된 데이터는 **객체에 점(.) 연산자를 사용한 후 속성명을 입력하여 참조**할 수 있습니다. 예를 들어, [코드 7-6]에서 변수 `stu1`에서 `self.score`에 저장된 속성을 참조하려면 `stu1.score` 코드를 사용합니다."
      ],
      "metadata": {
        "id": "CmGQJebP-KT6"
      }
    },
    {
      "cell_type": "code",
      "source": [
        "# 코드 7-7. 코드 7-6의 객체 stu1의 속성 참조\n",
        "\n",
        "# 변수 stu1의 score 속성 참조\n",
        "print(stu1.score)  # 출력: 60\n",
        "\n",
        "# 변수 stu1의 name 속성 참조\n",
        "print(stu1.name)  # 출력: 김판다"
      ],
      "metadata": {
        "colab": {
          "base_uri": "https://localhost:8080/"
        },
        "id": "8bKols1J95UW",
        "outputId": "967b58d1-aa07-45ed-ca77-2ed4b97b6204"
      },
      "execution_count": 6,
      "outputs": [
        {
          "output_type": "stream",
          "name": "stdout",
          "text": [
            "60\n",
            "김판다\n"
          ]
        }
      ]
    },
    {
      "cell_type": "markdown",
      "source": [
        "> 속성 변경\n",
        "\n",
        "**속성은 변수이기에 값을 다시 할당하여 변경**할 수 있습니다. 예를 들어, `stu1.name`에 저장된 데이터를  '홍길동'으로 변경할 수 있습니다."
      ],
      "metadata": {
        "id": "1OwL0iGa_X0R"
      }
    },
    {
      "cell_type": "code",
      "source": [
        "# 코드 7-8. 코드 7-6의 객체 stu1의 name 속성 변경\n",
        "\n",
        "# 변수 stu1의 name 속성 참조\n",
        "print(stu1.name)  # 출력: 김판다\n",
        "\n",
        "# 변수 stu1의 name 속성을 '홍길동'으로 변경\n",
        "stu1.name = '홍길동'\n",
        "\n",
        "# 변수 stu1에서 변경된 name 속성 참조\n",
        "print(stu1.name)  # 출력: 홍길동"
      ],
      "metadata": {
        "colab": {
          "base_uri": "https://localhost:8080/"
        },
        "id": "ElSQOT5F_3mp",
        "outputId": "3a7c4d43-7d03-4e67-a377-5111d8dac877"
      },
      "execution_count": 7,
      "outputs": [
        {
          "output_type": "stream",
          "name": "stdout",
          "text": [
            "김판다\n",
            "홍길동\n"
          ]
        }
      ]
    },
    {
      "cell_type": "markdown",
      "source": [
        "#### 7.2.4. 객체 표현 메서드\n",
        "\n",
        "> 객체 표현 메서드\n",
        "\n",
        "현재 생성된 객체는 `<__main__.MyFile at 0x7f5305b982d0>`와 같은 형태로 출력됩니다. **객체의 출력 형식을 지정하려면 객체 표현 메서드 `__repr__`을 정의해야 합니다.**\n",
        "입력된 데이터를 객체 출력에서도 확인할 수 있도록, 속성을 활용하여 `__repr__`을 구현합니다."
      ],
      "metadata": {
        "id": "e-qjuTeJAWnn"
      }
    },
    {
      "cell_type": "code",
      "execution_count": 8,
      "metadata": {
        "colab": {
          "base_uri": "https://localhost:8080/"
        },
        "id": "9Ewc60J_XLGm",
        "outputId": "62a995d2-5219-4139-b092-05ddba019588"
      },
      "outputs": [
        {
          "output_type": "stream",
          "name": "stdout",
          "text": [
            "StuRecord(score=60, name='김판다')\n"
          ]
        }
      ],
      "source": [
        "# 코드 7-9. __repr__ 메서드로 객체의 출력 형식 지정\n",
        "\n",
        "class StuRecord:  # StuRecord 클래스 정의\n",
        "    def __init__(self, correct, name):  # 생성자 메서드 정의\n",
        "        self.name = name  # name 속성 할당\n",
        "        self.score = correct * 10  # score 속성 할당\n",
        "\n",
        "    def __repr__(self):  # 객체 표현 메서드 정의\n",
        "        # 객체 출력 형식 지정\n",
        "        return f\"StuRecord(score={self.score}, name='{self.name}')\"\n",
        "\n",
        "# StuRecord 객체 생성하고 변수 stu1으로 지정\n",
        "stu1 = StuRecord(correct=6, name='김판다')\n",
        "\n",
        "# 변수 stu1 출력\n",
        "print(stu1)  # 출력: StuRecord(score=60, name='김판다')"
      ]
    },
    {
      "cell_type": "markdown",
      "source": [
        "객체 표현 메서드를 정의하면 입력된 데이터를 확인하도록 출력을 지정할 수 있습니다.\n",
        "\n",
        "🖇️ [코드 7-9]의 객체 표현 메서드에서 `return f\"StuRecord(score={self.score}, name='{self.name}')\"`으로 표현된 코드는 **f-string** 기법을 사용하여 속성에 할당된 데이터가 포함된 문자열을 동적으로 생성해 반환하는 코드입니다. 이 기법을 활용하면, 객체의 `score` 속성과 `name` 속성에 저장된 데이터를 직접 문자열에 삽입하여 출력할 수 있습니다. **f-string** 기법에 대한 자세한 내용은 **2.3 문자열 단원의 심화** 내용에서 소개되었습니다."
      ],
      "metadata": {
        "id": "PdfDKpuvCf9f"
      }
    },
    {
      "cell_type": "markdown",
      "source": [
        "#### 7.2.5. 메서드\n",
        "\n",
        "**메서드는 클래스 내부에서 `def` 키워드를 사용하여 정의된 함수**입니다. 이제까지 클래스 내부에서 `def`로 정의한 생성자 메서드와 객체 표현 메서드는 모두 메서드입니다.\n",
        "\n",
        "**메서드를 정의할 때 주의할 점은 매개변수를 설정할 때, 첫 번째 매개변수로 항상 `self`를 설정해야 한다는 것**입니다.\n",
        "\n",
        "\n",
        "> 특수 메서드\n",
        "\n",
        "생성자 메서드(`__init__`)와 객체 표현 메서드(`__repr__`)도 메서드의 일종입니다. 앞뒤에 __(언더스코어 두 개)가 붙은 메서드는 클래스 내부에서 특정한 역할이 미리 정해진 특수 메서드입니다."
      ],
      "metadata": {
        "id": "5P7PY5LnDYhH"
      }
    },
    {
      "cell_type": "markdown",
      "source": [
        "> 사용자 정의 메서드\n",
        "\n",
        "특수 메서드 외에도, 사용자가 원하는 동작을 구현하여 객체의 데이터를 변환하거나 처리하는 사용자 정의 메서드를 만들 수 있습니다. 이를 활용하면 데이터 조작 및 관리가 더욱 편리해집니다.\n",
        "\n",
        "아래 [코드 7-10]과 같이 def 키워드를 사용하여 `cheat` 메서드를 정의하면, 객체의 `score` 속성에 저장된 데이터를 0으로 변경합니다. `cheat` 메서드는 부정행위를 적발하면 해당 학생의 점수를 0점으로 설정하는 메서드입니다."
      ],
      "metadata": {
        "id": "suHoFKtfcnsp"
      }
    },
    {
      "cell_type": "code",
      "source": [
        "# 코드 7-10. score 속성을 0으로 설정하는 cheat 메서드 활용\n",
        "\n",
        "class StuRecord:  # StuRecord 클래스 정의\n",
        "    def __init__(self, correct, name):  # 생성자 메서드 정의\n",
        "        self.score = correct * 10  # score 속성 할당\n",
        "        self.name = name  # name 속성 할당\n",
        "\n",
        "    def __repr__(self):  # 객체 표현 메서드 정의\n",
        "        return f\"StuRecord(score={self.score}, name='{self.name}')\"\n",
        "\n",
        "    def cheat(self):  # 사용자 정의 메서드 cheat 정의\n",
        "        self.score = 0  # score 속성을 0으로 재할당\n",
        "\n",
        "# StuRecord 객체 생성하고 변수 stu1으로 지정\n",
        "stu1 = StuRecord(correct=6, name='김판다')\n",
        "\n",
        "# 변수 stu1 출력\n",
        "print(stu1)  # 출력: StuRecord(score=60, name='김판다')\n",
        "\n",
        "# score 속성을 0으로 변경하는 cheat 메서드를 변수 stu1에 적용\n",
        "stu1.cheat()\n",
        "\n",
        "# 변수 stu1 출력\n",
        "print(stu1)  # 출력: StuRecord(score=0, name='김판다')"
      ],
      "metadata": {
        "colab": {
          "base_uri": "https://localhost:8080/"
        },
        "id": "ZooG5zDvKQwm",
        "outputId": "9187bc19-70ad-48f1-f091-1b8f296fe48e"
      },
      "execution_count": 9,
      "outputs": [
        {
          "output_type": "stream",
          "name": "stdout",
          "text": [
            "StuRecord(score=60, name='김판다')\n",
            "StuRecord(score=0, name='김판다')\n"
          ]
        }
      ]
    },
    {
      "cell_type": "markdown",
      "source": [
        "#### 7.2.6. 연산자 오버로딩\n",
        "\n",
        "**연산자 오버로딩(Operator Overloading)은 기본 연산자(`+`, `-`, `*`, `/` 등)의 동작을 우리가 원하는 방식으로 재정의하는 기능**입니다. 그래서 객체의 연산이 클래스마다 서로 다르게 적용되는 경우가 많습니다. 예를 들어, 정수 객체에 `*`연산자를 사용하면 곱셈을 수행하지만, 리스트 객체에 `*`연산자를 사용하면 곱해진 정수만큼 반복합니다.\n",
        "\n",
        "> 연산자 오버로딩 정의\n",
        "\n",
        "**연산자 오버로딩은 클래스 내부에서 특수 메서드를 사용하여 정의**합니다. 예를 들어, `+` 연산자는 특수 메서드 `__add__`을 이용해 구현할 수 있습니다.\n",
        "\n",
        "[코드 7-11]에서 `StuRecord` 클래스의 `+` 연산을 정의합니다. `+` 연산은 더해진 수치만큼 학생의 점수를 올려주는 연산으로 정의합니다."
      ],
      "metadata": {
        "id": "pjqe5Yp3bbiz"
      }
    },
    {
      "cell_type": "code",
      "source": [
        "# 코드 7-11. StuRecord 클래스에 + 연산자 오버로딩 적용\n",
        "\n",
        "class StuRecord:  # StuRecord 클래스 정의\n",
        "    def __init__(self, correct, name):  # 생성자 메서드 정의\n",
        "        self.score = correct * 10  # score 속성 할당\n",
        "        self.name = name  # name 속성 할당\n",
        "\n",
        "    def __repr__(self):  # 객체 표현 메서드 정의\n",
        "        return f\"StuRecord(score={self.score}, name='{self.name}')\"\n",
        "\n",
        "    def __add__(self, n):  # + 연산자 오버로딩 정의\n",
        "        self.score += n  # score 속성에 n을 더한 값을 재할당\n",
        "\n",
        "# StuRecord 객체 생성하고 변수 stu1으로 지정\n",
        "stu1 = StuRecord(correct=6, name='김판다')\n",
        "\n",
        "# 변수 stu1 출력\n",
        "print(stu1)  # 출력: StuRecord(score=60, name='김판다')\n",
        "\n",
        "# stu1에 3을 더한 다음 stu1 출력\n",
        "stu1 + 3\n",
        "print(stu1) # 출력: StuRecord(score=63, name='김판다')"
      ],
      "metadata": {
        "colab": {
          "base_uri": "https://localhost:8080/"
        },
        "id": "ITKH8JyjenyN",
        "outputId": "afee00e3-161e-408b-879d-e747396abba0"
      },
      "execution_count": 10,
      "outputs": [
        {
          "output_type": "stream",
          "name": "stdout",
          "text": [
            "StuRecord(score=60, name='김판다')\n",
            "StuRecord(score=63, name='김판다')\n"
          ]
        }
      ]
    },
    {
      "cell_type": "markdown",
      "source": [
        "> 데이터 분석 모듈에서 비트 연산자\n",
        "\n",
        "연산자 오버로딩을 정의하는 방법을 아는 것보다, **모듈의 클래스에서 다양한 연산자에 고유한 연산 방식을 정의해 두었다는 점을 이해하는 것이 더 중요**합니다. 이는 산술 연산뿐만 아니라 비교 연산과 논리 연산도 새롭게 정의할 수 있습니다.\n",
        "\n",
        "특히, 데이터 분석 모듈에서 데이터 프레임이나 시리즈 클래스에 비트 연산자(`&`, `|`, `~`)를 적용하여 고유한 연산을 수행할 수 있도록 정의해 둔 것 또한 연산자 오버로딩의 예시입니다. 이러한 연산자 오버로딩을 통해 비트 연산자로 정의된 연산은 `and`, `or`, `not` 키워드로 대체할 수 없으므로, 반드시 비트 연산자 `&`, `|`, `~` 연산자를 사용해야 한다는 점을 숙지해야 합니다.\n",
        "\n",
        "🖇️ 연산자 오버로딩에 대한 개념을 몰라도, **데이터 분석 모듈의 클래스인 데이터 프레임과 시리즈를 대상으로 `and`, `or`, `not` 논리 연산자를 적용하지 않는다**고 기억하면 됩니다."
      ],
      "metadata": {
        "id": "RQSkrv4TfrqS"
      }
    },
    {
      "cell_type": "markdown",
      "source": [
        "#### 7.2.7. 상속\n",
        "\n",
        "객체지향 프로그래밍에서 **상속(Inheritance)은 기존 클래스의 기능을 그대로 물려받아 새로운 클래스를 생성하는 개념**입니다. 이를 통해 코드 재사용성을 높이고, 기존 클래스를 확장하여 새로운 기능을 추가할 수 있습니다.\n",
        "\n",
        "> 클래스 상속 방법\n",
        "\n",
        "새로운 클래스를 생성할 때, **클래스의 인수로 기존 클래스를 입력하면 해당 클래스를 상속**할 수 있습니다.\n",
        "\n",
        "```python\n",
        "class 클래스명(부모 클래스):\n",
        "```\n",
        "\n",
        "[코드 7-12]로 `StuRecord` 클래스를 상속하여 `StuGrade` 클래스를 생성한 뒤, `StuGrade` 객체까지 생성하는 작업을 실습합니다."
      ],
      "metadata": {
        "id": "FudbiG8ZqIqk"
      }
    },
    {
      "cell_type": "code",
      "source": [
        "# 코드 7-12. StuRecord 클래스를 상속한 StuGrade 클래스 생성\n",
        "\n",
        "class StuGrade(StuRecord):  # StuRecord 클래스를 상속한 StuGrade 클래스\n",
        "    pass  # 새로운 기능 추가 없이 부모 클래스 그대로 상속\n",
        "\n",
        "# StuGrade 객체 생성 (StuRecord의 기능을 그대로 사용)\n",
        "StuGrade(correct=6, name='김판다')"
      ],
      "metadata": {
        "colab": {
          "base_uri": "https://localhost:8080/"
        },
        "id": "OdAz4EpejSUm",
        "outputId": "ea3032d4-10e6-4b5d-cd5d-c53b3039676b"
      },
      "execution_count": 11,
      "outputs": [
        {
          "output_type": "execute_result",
          "data": {
            "text/plain": [
              "StuRecord(score=60, name='김판다')"
            ]
          },
          "metadata": {},
          "execution_count": 11
        }
      ]
    },
    {
      "cell_type": "markdown",
      "source": [
        "> 상속의 장점\n",
        "\n",
        "[코드 7-12]의 예시는 기존 클래스를 그대로 상속한 것이므로, 상속의 장점이 두드러지지는 않습니다. 그러나 기존 클래스의 연산자 오버로딩이나 메서드를 그대로 물려받으면서 일부만 수정할 수 있다는 점에서 상속은 매우 유용합니다.\n",
        "\n",
        "데이터 분석 모듈을 학습한 후 직접 클래스를 생성할 일이 있을 때, 기존 클래스를 확장하여 재사용하는 방식으로 상속을 활용할 수 있으며, 그때 상속을 학습해도 충분합니다."
      ],
      "metadata": {
        "id": "zj4ahjCXkOy-"
      }
    },
    {
      "cell_type": "markdown",
      "source": [
        "#### 7.2.8. 클래스 실습 목적 정리\n",
        "\n",
        "우리가 클래스를 실습한 목적은 클래스에 대한 이해도를 높여, 데이터 분석 모듈의 클래스를 보다 쉽게 학습할 수 있도록 하기 위함입니다. **데이터 분석 모듈에서 알아두면 좋은 개념**은 아래와 같습니다. 현재 이해가 되지 않는 부분이 있다면, 데이터 분석 모듈을 학습하면서 자연스럽게 익혀도 늦지 않습니다.\n",
        "\n",
        "> 데이터 분석 모듈 학습에 필요한 클래스 개념\n",
        "\n",
        "1. **객체 생성**\n",
        "\n",
        " 카멜 표기법인 클래스명을 호출하고, 생성자에 정의된 매개변수에 데이터를 입력하면 객체가 생성됩니다.\n",
        "\n",
        " ```python\n",
        "# 판다스의 시리즈 클래스 생성 예시\n",
        "import pandas as pd\n",
        "s = pd.Series(data=[1, 2], index=['A', 'B'])\n",
        "```\n",
        "\n",
        "2. **속성 (attribute) 참조**\n",
        "\n",
        " 속성은 클래스 내부에서 정의된 변수로 객체 내부에 저장된 데이터를 의미합니다. 객체에 점(`.`) 연산자와 함께 속성을 입력해 해당 속성을 참조합니다.\n",
        "\n",
        " ```python\n",
        "# 판다스의 시리즈 클래스의 index 속성 불러오기\n",
        "s.index  # 출력: Index(['A', 'B'], dtype='object')\n",
        "```\n",
        "\n",
        "3. **속성 (attribute) 재할당**\n",
        "\n",
        " 속성은 변수이기 때문에 재할당으로 값을 수정할 수 있습니다.\n",
        "\n",
        " ```python\n",
        "# 판다스의 시리즈 클래스의 index 속성 재할당하기\n",
        "s.index  = ['가', '나']\n",
        "s.index  # 출력: Index(['가', '나'], dtype='object')\n",
        "```\n",
        "\n",
        "4. **메서드 (methods)**\n",
        "\n",
        " 메서드는 클래스 내부에서 정의된 함수로 객체에 종속된 함수입니다. 해당 클래스의 데이터를 변환하는 여러 기능을 지원하며, 해당 클래스에만 호출할 수 있습니다.\n",
        "\n",
        " ```python\n",
        "# 판다스의 시리즈 클래스에 sum 메서드 호출하기\n",
        "s.sum()  # 출력: 3\n",
        "```\n",
        "\n",
        "5. **연산자 오버로딩** (Operator Overloading)\n",
        " 연산자는 클래스마다 다르게 정의될 수 있습니다. `+`, `-`와 같은 산술 연산자뿐만 아니라 `&`, `|`, `~`와 같은 비트 연산자도 클래스에 맞게 재정의할 수 있습니다. **비트 연산자 `&`, `|`, `~`으로 재정의된 연산을 논리 연산자 `and`, `or`, `not`으로 대체하려고 하면 안됩니다.**\n",
        "\n",
        "\n",
        "6. **특수 메서드** (__로 감싸진 메서드)\n",
        "\n",
        " `__init__`, `__repr__`, `__add__` 같은 메서드는 특수한 역할이 부여된 메서드입니다. 속성에도 `__version__`과 같이 특수한 기능이 부여된 경우가 있습니다.\n",
        "\n",
        " ```python\n",
        "# 모듈의 버전을 확인하는 특수 속성 __version__\n",
        "pd.__version__  # 출력: 여러분의 판다스 버전이 출력됩니다.\n",
        "```\n",
        "\n",
        "\n",
        "7. **객체 출력 메서드** (`__repr__`)\n",
        "\n",
        " `print(객체명)` 코드를 실행했을 때 `<__main__.MyFile object at 0x12345678>`처럼 출력되는 것은 객체의 표현 방식이 정의되지 않았기 때문입니다. 기본 파이썬의 `map`, `zip` 객체 혹은 판다스의 그룹바이 객체가 이런 형태로 출력됩니다. `__repr__` 메서드를 정의하면 사람이 읽기 좋은 형태로 출력할 수 있습니다.\n",
        "\n",
        "\n",
        "\n",
        "\n",
        "\n",
        "\n",
        "\n",
        "\n",
        "\n",
        "\n",
        "\n",
        "\n",
        "\n",
        "\n"
      ],
      "metadata": {
        "id": "NrgfVLxbmVL8"
      }
    },
    {
      "cell_type": "markdown",
      "source": [
        "**😀 파이썬의 엑셀, 판다스 라이브러리 출판 안내**\n",
        "\n",
        "**서울대** 이성주 교수님과 **카이스트** 차유진 교수님이 추천한 데이터 분석 책 **『파이썬의 엑셀, 판다스 라이브러리』**가 출판되었습니다. 이 책은 입문자를 위해 데이터 분석 과정에서 가장 중요한 판다스 라이브러리를 쉽게 풀어쓴 **입문서**이며, 동시에 여러분의 데이터 처리 역량을 강화하는 데 큰 도움이 되는 **기본서**입니다.\n",
        "\n",
        "<img src=https://i.postimg.cc/MKg8TW75/01.jpg, width=600>\n",
        "\n",
        "🎈 [파이썬의 엑셀, 판다스 라이브러리 목차 확인](https://kimpanda.tistory.com/274)\n",
        "\n",
        "🎈 [교보문고 구매 페이지](https://product.kyobobook.co.kr/detail/S000214350781)"
      ],
      "metadata": {
        "id": "-GlQLSTgyakd"
      }
    }
  ]
}