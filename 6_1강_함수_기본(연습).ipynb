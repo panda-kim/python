{
  "nbformat": 4,
  "nbformat_minor": 0,
  "metadata": {
    "colab": {
      "provenance": []
    },
    "kernelspec": {
      "name": "python3",
      "display_name": "Python 3"
    },
    "language_info": {
      "name": "python"
    }
  },
  "cells": [
    {
      "cell_type": "markdown",
      "source": [
        "## Chapter 6. 함수\n",
        "\n",
        "**함수는 특정 입력값을 받아 처리한 후 결과를 반환하는 독립적인 코드 블록**입니다. 이는 프로그램에서 중복 작업을 최소화하고 구조를 명확하게 만드는 역할을 합니다. 함수를 사용하면 프로그램의 재사용성과 가독성이 향상되며, 코드 중복을 줄여 유지 및 보수가 쉬워집니다.\n",
        "\n",
        "함수 단원에서 학습할 주요 개념은 다음과 같습니다.\n",
        "\n",
        "- **함수의 주요 개념**\n",
        " - **생성과 호출 (키워드 def)**: 함수를 정의하고 실행\n",
        " - **매개변수와 인수**: 함수에 값을 전달하여 코드 수행\n",
        " - **기본값**: 매개변수에 별도의 인수가 전달되지 않을 때 사용\n",
        " - **lambda 함수**: 간단한 작업을 위한 익명 함수\n"
      ],
      "metadata": {
        "id": "Zl-juMOQD-zp"
      }
    },
    {
      "cell_type": "markdown",
      "source": [
        "### 6.1. 함수 기본\n",
        "\n",
        "데이터 분석 모듈에서 타인이 생성한 함수를 자주 사용하게 되므로, 함수의 기본 개념을 이해하는 것이 중요합니다. 이를 위해 함수 정의와 호출 방법을 학습합니다."
      ],
      "metadata": {
        "id": "aRUXkD6aEFVI"
      }
    },
    {
      "cell_type": "markdown",
      "source": [
        "#### 6.1.1. 함수 정의하기\n",
        "\n",
        "**파이썬에서 함수는 `def` 키워드와 `lambda` 키워드로 정의**할 수 있습니다. `lambda` 함수는 이후에 학습하는 내용이기에, 먼저 `def`로 함수를 정의하는 방법을 알아보겠습니다.\n",
        "\n",
        "> 함수 정의하기: def 키워드\n",
        "\n",
        "`def` 키워드를 사용하여 함수를 정의합니다.\n",
        "\n",
        "- `def` 파트: 함수명과 매개변수(parameter)를 설정하며, 콜론(:)으로 끝을 맺습니다.\n",
        "\n",
        "- do 파트: 함수의 본문으로, 매개변수에 전달된 인수(argument)를 처리하는 코드 블록입니다. 이 부분은 **4칸 들여쓰기**로 작성해야 합니다.\n",
        "\n",
        "함수는 일반적으로 결과를 반환하도록 설계되며, `return` 키워드를 사용하여 결과를 반환합니다.\n",
        "\n",
        "<img src=https://i.postimg.cc/Hn4PMn0S/2025-01-11-213751.png, width=600>\n",
        "\n",
        "[그림 6-1] 함수의 정의(def)\n",
        "\n",
        "예시) `def` 파트에서 `add_one` 함수를 정의하고 매개변수로 `x`를 지정한 후, do 파트에서 `return x + 1`을 설정하면, 이 함수는 입력된 인수에 1을 더한 결과를 반환합니다."
      ],
      "metadata": {
        "id": "5DhMw9kiENKN"
      }
    },
    {
      "cell_type": "code",
      "execution_count": 1,
      "metadata": {
        "id": "8mtuz3SxD-Ni"
      },
      "outputs": [],
      "source": [
        "# 코드 6-1. 함수 정의하기\n",
        "\n",
        "# 입력값에 1을 더해 반환하는 함수 정의\n",
        "\n"
      ]
    },
    {
      "cell_type": "markdown",
      "source": [
        "#### 6.1.2. 함수 호출하기\n",
        "\n",
        "> 함수 호출하기\n",
        "\n",
        "**함수를 호출하려면 함수명 뒤에 괄호를 열고 필요한 인수(argument)를 전달합니다.** 인수는 함수의 매개변수(parameter)에 대응하며, 여러 개를 전달할 경우 쉼표로 구분합니다. 함수는 호출되면 지정한 인수를 매개변수에 전달해 do 파트의 코드를 실행하고, `return` 키워드로 지정된 결과를 반환합니다.\n",
        "\n",
        "<img src=https://i.postimg.cc/kghYKk8d/6-2.png, width=600>\n",
        "\n",
        "[그림 6-2] 함수의 호출\n",
        "\n",
        "예를 들어, `add_one(2)`의 코드는 `add_one` 함수를 호출하고 매개변수 `x`에 인수 2를 할당해, 결과로 3을 반환합니다. 또한, `add_one(x=2)`의 코드처럼 매개변수와 인수를 명시적으로 입력할 수도 있습니다. 매개변수와 인수의 개념에 대한 자세한 내용은 다음 단원에서 학습합니다.\n"
      ],
      "metadata": {
        "id": "cOm83JuvEPBq"
      }
    },
    {
      "cell_type": "code",
      "source": [
        "# 코드 6-2. 함수 호출하기\n",
        "\n",
        "# 입력값에 1을 더해 반환하는 함수 정의\n",
        "def add_one(x):\n",
        "    return x + 1\n",
        "\n",
        "# 함수 add_one를 호출하고, 인수로 2를 입력해 결과 출력\n"
      ],
      "metadata": {
        "id": "SGfg7hByHHTv"
      },
      "execution_count": 2,
      "outputs": []
    },
    {
      "cell_type": "markdown",
      "source": [
        "**😀 파이썬의 엑셀, 판다스 라이브러리 출판 안내**\n",
        "\n",
        "**서울대** 이성주 교수님과 **카이스트** 차유진 교수님이 추천한 데이터 분석 책 **『파이썬의 엑셀, 판다스 라이브러리』**가 출판되었습니다. 이 책은 입문자를 위해 데이터 분석 과정에서 가장 중요한 판다스 라이브러리를 쉽게 풀어쓴 **입문서**이며, 동시에 여러분의 데이터 처리 역량을 강화하는 데 큰 도움이 되는 **기본서**입니다.\n",
        "\n",
        "<img src=https://i.postimg.cc/MKg8TW75/01.jpg, width=600>\n",
        "\n",
        "🎈 [파이썬의 엑셀, 판다스 라이브러리 목차 확인](https://kimpanda.tistory.com/274)\n",
        "\n",
        "🎈 [교보문고 구매 페이지](https://product.kyobobook.co.kr/detail/S000214350781)"
      ],
      "metadata": {
        "id": "5mOqCacLt8w6"
      }
    }
  ]
}